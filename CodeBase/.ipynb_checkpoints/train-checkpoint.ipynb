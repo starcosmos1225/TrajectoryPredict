{
 "cells": [
  {
   "cell_type": "code",
   "execution_count": 1,
   "id": "determined-township",
   "metadata": {},
   "outputs": [],
   "source": [
    "import pandas as pd\n",
    "import yaml\n",
    "import argparse\n",
    "import torch\n",
    "from model import YNet,Transformer\n",
    "from easydict import EasyDict\n",
    "import os"
   ]
  },
  {
   "cell_type": "code",
   "execution_count": 2,
   "id": "finished-potential",
   "metadata": {},
   "outputs": [],
   "source": [
    "%load_ext autoreload\n",
    "%autoreload 2"
   ]
  },
  {
   "cell_type": "markdown",
   "id": "e567fbe0",
   "metadata": {},
   "source": [
    "#### Load config file and print hyperparameters"
   ]
  },
  {
   "cell_type": "code",
   "execution_count": 3,
   "id": "arabic-thickness",
   "metadata": {},
   "outputs": [
    {
     "data": {
      "text/plain": [
       "{'resize': 0.33,\n",
       " 'batch_size': 8,\n",
       " 'viz_epoch': 10,\n",
       " 'learning_rate': 0.0001,\n",
       " 'num_epochs': 300,\n",
       " 'temperature': 1.8,\n",
       " 'loss_scale': 1000,\n",
       " 'kernlen': 31,\n",
       " 'nsig': 4,\n",
       " 'unfreeze': 100,\n",
       " 'use_TTST': True,\n",
       " 'rel_threshold': 0.002,\n",
       " 'use_CWS': True,\n",
       " 'CWS_params': {'sigma_factor': 6, 'ratio': 2, 'rot': True},\n",
       " 'dataset_name': 'ind',\n",
       " 'train_data_path': '../dataset/inD/train.pkl',\n",
       " 'train_image_path': '../dataset/inD/train',\n",
       " 'val_data_path': '../dataset/inD/test.pkl',\n",
       " 'val_image_path': '../dataset/inD/test',\n",
       " 'num_goals': 20,\n",
       " 'num_traj': 1,\n",
       " 'experiment_name': 'ind_longterm',\n",
       " 'waypoints': [14, 29],\n",
       " 'model': {'name': 'ynet',\n",
       "  'kwargs': {'obs_len': 5,\n",
       "   'pred_len': 30,\n",
       "   'segmentation_model_fp': 'segmentation_models/inD_segmentation.pth',\n",
       "   'use_features_only': False,\n",
       "   'semantic_classes': 6,\n",
       "   'encoder_channels': [32, 32, 64, 64, 64],\n",
       "   'decoder_channels': [64, 64, 64, 32, 32],\n",
       "   'waypoints': [14, 29]}}}"
      ]
     },
     "execution_count": 3,
     "metadata": {},
     "output_type": "execute_result"
    }
   ],
   "source": [
    "model_dict = {\n",
    "    'ynet': YNet,\n",
    "    'transformer': Transformer,\n",
    "}\n",
    "os.environ['CUDA_ENABLE_DEVICES'] = '0'\n",
    "CONFIG_FILE_PATH = 'config/inD_longterm.yaml'  # yaml config file containing all the hyperparameters\n",
    "with open(CONFIG_FILE_PATH) as file:\n",
    "    params = yaml.load(file, Loader=yaml.FullLoader)\n",
    "params = EasyDict(params)\n",
    "experiment_name = CONFIG_FILE_PATH.split('.yaml')[0].split('config/')[1]\n",
    "params\n",
    "\n"
   ]
  },
  {
   "cell_type": "markdown",
   "id": "2f729e8f",
   "metadata": {},
   "source": [
    "#### Some hyperparameters and settings"
   ]
  },
  {
   "cell_type": "code",
   "execution_count": 4,
   "id": "dangerous-cutting",
   "metadata": {},
   "outputs": [],
   "source": [
    "EXPERIMENT_NAME = params.experiment_name  # arbitrary name for this experiment\n",
    "DATASET_NAME = params.dataset_name\n",
    "\n",
    "TRAIN_DATA_PATH = params.train_data_path\n",
    "TRAIN_IMAGE_PATH = params.train_image_path\n",
    "VAL_DATA_PATH = params.val_data_path\n",
    "VAL_IMAGE_PATH = params.val_image_path\n",
    "# OBS_LEN = params.obs_length  # in timesteps\n",
    "# PRED_LEN = params.pred_len  # in timesteps\n",
    "NUM_GOALS = params.num_goals  # K_e\n",
    "NUM_TRAJ = params.num_traj  # K_a\n",
    "\n",
    "BATCH_SIZE = params.batch_size\n"
   ]
  },
  {
   "cell_type": "markdown",
   "id": "amber-pressure",
   "metadata": {},
   "source": [
    "#### Load preprocessed Data"
   ]
  },
  {
   "cell_type": "code",
   "execution_count": 5,
   "id": "german-feature",
   "metadata": {},
   "outputs": [],
   "source": [
    "df_train = pd.read_pickle(TRAIN_DATA_PATH)\n",
    "df_val = pd.read_pickle(VAL_DATA_PATH)"
   ]
  },
  {
   "cell_type": "code",
   "execution_count": 6,
   "id": "corporate-pharmacy",
   "metadata": {},
   "outputs": [
    {
     "data": {
      "text/html": [
       "<div>\n",
       "<style scoped>\n",
       "    .dataframe tbody tr th:only-of-type {\n",
       "        vertical-align: middle;\n",
       "    }\n",
       "\n",
       "    .dataframe tbody tr th {\n",
       "        vertical-align: top;\n",
       "    }\n",
       "\n",
       "    .dataframe thead th {\n",
       "        text-align: right;\n",
       "    }\n",
       "</style>\n",
       "<table border=\"1\" class=\"dataframe\">\n",
       "  <thead>\n",
       "    <tr style=\"text-align: right;\">\n",
       "      <th></th>\n",
       "      <th>trackId</th>\n",
       "      <th>frame</th>\n",
       "      <th>x</th>\n",
       "      <th>y</th>\n",
       "      <th>sceneId</th>\n",
       "      <th>metaId</th>\n",
       "      <th>frame_diff</th>\n",
       "      <th>recId</th>\n",
       "    </tr>\n",
       "  </thead>\n",
       "  <tbody>\n",
       "    <tr>\n",
       "      <th>0</th>\n",
       "      <td>31</td>\n",
       "      <td>2217</td>\n",
       "      <td>256.721335</td>\n",
       "      <td>69.443387</td>\n",
       "      <td>scene2</td>\n",
       "      <td>0</td>\n",
       "      <td>1.0</td>\n",
       "      <td>07</td>\n",
       "    </tr>\n",
       "    <tr>\n",
       "      <th>1</th>\n",
       "      <td>31</td>\n",
       "      <td>2242</td>\n",
       "      <td>267.350942</td>\n",
       "      <td>79.050983</td>\n",
       "      <td>scene2</td>\n",
       "      <td>0</td>\n",
       "      <td>1.0</td>\n",
       "      <td>07</td>\n",
       "    </tr>\n",
       "    <tr>\n",
       "      <th>2</th>\n",
       "      <td>31</td>\n",
       "      <td>2267</td>\n",
       "      <td>276.964578</td>\n",
       "      <td>91.597359</td>\n",
       "      <td>scene2</td>\n",
       "      <td>0</td>\n",
       "      <td>1.0</td>\n",
       "      <td>07</td>\n",
       "    </tr>\n",
       "    <tr>\n",
       "      <th>3</th>\n",
       "      <td>31</td>\n",
       "      <td>2292</td>\n",
       "      <td>287.502662</td>\n",
       "      <td>104.240274</td>\n",
       "      <td>scene2</td>\n",
       "      <td>0</td>\n",
       "      <td>1.0</td>\n",
       "      <td>07</td>\n",
       "    </tr>\n",
       "    <tr>\n",
       "      <th>4</th>\n",
       "      <td>31</td>\n",
       "      <td>2317</td>\n",
       "      <td>297.761057</td>\n",
       "      <td>116.633497</td>\n",
       "      <td>scene2</td>\n",
       "      <td>0</td>\n",
       "      <td>1.0</td>\n",
       "      <td>07</td>\n",
       "    </tr>\n",
       "  </tbody>\n",
       "</table>\n",
       "</div>"
      ],
      "text/plain": [
       "   trackId  frame           x           y sceneId  metaId  frame_diff recId\n",
       "0       31   2217  256.721335   69.443387  scene2       0         1.0    07\n",
       "1       31   2242  267.350942   79.050983  scene2       0         1.0    07\n",
       "2       31   2267  276.964578   91.597359  scene2       0         1.0    07\n",
       "3       31   2292  287.502662  104.240274  scene2       0         1.0    07\n",
       "4       31   2317  297.761057  116.633497  scene2       0         1.0    07"
      ]
     },
     "execution_count": 6,
     "metadata": {},
     "output_type": "execute_result"
    }
   ],
   "source": [
    "df_train.head()"
   ]
  },
  {
   "cell_type": "markdown",
   "id": "24dc5d7c",
   "metadata": {},
   "source": [
    "#### Initiate model"
   ]
  },
  {
   "cell_type": "code",
   "execution_count": 7,
   "id": "harmful-colleague",
   "metadata": {},
   "outputs": [
    {
     "name": "stderr",
     "output_type": "stream",
     "text": [
      "/home/nvidia-3080/anaconda3/envs/hxy/lib/python3.9/site-packages/torch/serialization.py:671: SourceChangeWarning: source code of class 'segmentation_models_pytorch.unet.model.Unet' has changed. you can retrieve the original source code by accessing the object's source attribute or set `torch.nn.Module.dump_patches = True` and use the patch tool to revert the changes.\n",
      "  warnings.warn(msg, SourceChangeWarning)\n",
      "/home/nvidia-3080/anaconda3/envs/hxy/lib/python3.9/site-packages/torch/serialization.py:671: SourceChangeWarning: source code of class 'segmentation_models_pytorch.encoders.resnet.ResNetEncoder' has changed. you can retrieve the original source code by accessing the object's source attribute or set `torch.nn.Module.dump_patches = True` and use the patch tool to revert the changes.\n",
      "  warnings.warn(msg, SourceChangeWarning)\n",
      "/home/nvidia-3080/anaconda3/envs/hxy/lib/python3.9/site-packages/torch/serialization.py:671: SourceChangeWarning: source code of class 'torch.nn.modules.conv.Conv2d' has changed. you can retrieve the original source code by accessing the object's source attribute or set `torch.nn.Module.dump_patches = True` and use the patch tool to revert the changes.\n",
      "  warnings.warn(msg, SourceChangeWarning)\n",
      "/home/nvidia-3080/anaconda3/envs/hxy/lib/python3.9/site-packages/torch/serialization.py:671: SourceChangeWarning: source code of class 'torch.nn.modules.batchnorm.BatchNorm2d' has changed. you can retrieve the original source code by accessing the object's source attribute or set `torch.nn.Module.dump_patches = True` and use the patch tool to revert the changes.\n",
      "  warnings.warn(msg, SourceChangeWarning)\n",
      "/home/nvidia-3080/anaconda3/envs/hxy/lib/python3.9/site-packages/torch/serialization.py:671: SourceChangeWarning: source code of class 'torch.nn.modules.activation.ReLU' has changed. you can retrieve the original source code by accessing the object's source attribute or set `torch.nn.Module.dump_patches = True` and use the patch tool to revert the changes.\n",
      "  warnings.warn(msg, SourceChangeWarning)\n",
      "/home/nvidia-3080/anaconda3/envs/hxy/lib/python3.9/site-packages/torch/serialization.py:671: SourceChangeWarning: source code of class 'torch.nn.modules.pooling.MaxPool2d' has changed. you can retrieve the original source code by accessing the object's source attribute or set `torch.nn.Module.dump_patches = True` and use the patch tool to revert the changes.\n",
      "  warnings.warn(msg, SourceChangeWarning)\n",
      "/home/nvidia-3080/anaconda3/envs/hxy/lib/python3.9/site-packages/torch/serialization.py:671: SourceChangeWarning: source code of class 'torch.nn.modules.container.Sequential' has changed. you can retrieve the original source code by accessing the object's source attribute or set `torch.nn.Module.dump_patches = True` and use the patch tool to revert the changes.\n",
      "  warnings.warn(msg, SourceChangeWarning)\n",
      "/home/nvidia-3080/anaconda3/envs/hxy/lib/python3.9/site-packages/torch/serialization.py:671: SourceChangeWarning: source code of class 'torchvision.models.resnet.Bottleneck' has changed. you can retrieve the original source code by accessing the object's source attribute or set `torch.nn.Module.dump_patches = True` and use the patch tool to revert the changes.\n",
      "  warnings.warn(msg, SourceChangeWarning)\n",
      "/home/nvidia-3080/anaconda3/envs/hxy/lib/python3.9/site-packages/torch/serialization.py:671: SourceChangeWarning: source code of class 'torch.nn.modules.linear.Identity' has changed. you can retrieve the original source code by accessing the object's source attribute or set `torch.nn.Module.dump_patches = True` and use the patch tool to revert the changes.\n",
      "  warnings.warn(msg, SourceChangeWarning)\n",
      "/home/nvidia-3080/anaconda3/envs/hxy/lib/python3.9/site-packages/torch/serialization.py:671: SourceChangeWarning: source code of class 'torch.nn.modules.container.ModuleList' has changed. you can retrieve the original source code by accessing the object's source attribute or set `torch.nn.Module.dump_patches = True` and use the patch tool to revert the changes.\n",
      "  warnings.warn(msg, SourceChangeWarning)\n",
      "/home/nvidia-3080/anaconda3/envs/hxy/lib/python3.9/site-packages/torch/serialization.py:671: SourceChangeWarning: source code of class 'segmentation_models_pytorch.base.modules.Activation' has changed. you can retrieve the original source code by accessing the object's source attribute or set `torch.nn.Module.dump_patches = True` and use the patch tool to revert the changes.\n",
      "  warnings.warn(msg, SourceChangeWarning)\n",
      "/home/nvidia-3080/anaconda3/envs/hxy/lib/python3.9/site-packages/torch/serialization.py:671: SourceChangeWarning: source code of class 'torch.nn.modules.activation.Softmax' has changed. you can retrieve the original source code by accessing the object's source attribute or set `torch.nn.Module.dump_patches = True` and use the patch tool to revert the changes.\n",
      "  warnings.warn(msg, SourceChangeWarning)\n"
     ]
    }
   ],
   "source": [
    "model = model_dict[params.model.name](**params.model.kwargs)"
   ]
  },
  {
   "cell_type": "markdown",
   "id": "45e099fe",
   "metadata": {},
   "source": [
    "#### Start training\n",
    "Note, the Val ADE and FDE are without TTST and CWS to save time. Therefore, the numbers will be worse than the final values."
   ]
  },
  {
   "cell_type": "code",
   "execution_count": 8,
   "id": "optional-colleague",
   "metadata": {},
   "outputs": [
    {
     "name": "stdout",
     "output_type": "stream",
     "text": [
      "Preprocess data\n"
     ]
    },
    {
     "name": "stderr",
     "output_type": "stream",
     "text": [
      "Prepare Dataset: 100%|████████████████████████| 24/24 [00:00<00:00, 455.82it/s]\n",
      "/media/nvidia-3080/35aae167-c57e-42a4-aae3-7dbbf1275d98/hxy/TrajectoryPredict/CodeBase/utils/dataloader.py:35: VisibleDeprecationWarning: Creating an ndarray from ragged nested sequences (which is a list-or-tuple of lists-or-tuples-or ndarrays with different lengths or shapes) is deprecated. If you meant to do this, you must specify 'dtype=object' when creating the ndarray.\n",
      "  return np.array(trajectories), meta, scene_list\n",
      "Prepare Dataset: 100%|██████████████████████████| 1/1 [00:00<00:00, 506.07it/s]\n"
     ]
    },
    {
     "name": "stdout",
     "output_type": "stream",
     "text": [
      "Start training\n"
     ]
    },
    {
     "name": "stderr",
     "output_type": "stream",
     "text": [
      "Epoch:   0%|                                           | 0/300 [00:00<?, ?it/s]/media/nvidia-3080/35aae167-c57e-42a4-aae3-7dbbf1275d98/hxy/TrajectoryPredict/CodeBase/utils/dataloader.py:46: UserWarning: Creating a tensor from a list of numpy.ndarrays is extremely slow. Please consider converting the list to a single numpy.ndarray with numpy.array() before converting to a tensor. (Triggered internally at  /opt/conda/conda-bld/pytorch_1634272204863/work/torch/csrc/utils/tensor_new.cpp:201.)\n",
      "  return torch.Tensor(trajectories).squeeze(0), meta, scene[0]\n",
      "/home/nvidia-3080/anaconda3/envs/hxy/lib/python3.9/site-packages/torch/functional.py:445: UserWarning: torch.meshgrid: in an upcoming release, it will be required to pass the indexing argument. (Triggered internally at  /opt/conda/conda-bld/pytorch_1634272204863/work/aten/src/ATen/native/TensorShape.cpp:2157.)\n",
      "  return _VF.meshgrid(tensors, **kwargs)  # type: ignore[attr-defined]\n"
     ]
    },
    {
     "name": "stdout",
     "output_type": "stream",
     "text": [
      "Epoch 0: \n",
      "Val ADE: 85.31015014648438 \n",
      "Val FDE: 60.3188591003418\n",
      "Best Epoch 0: \n",
      "Val ADE: 85.31015014648438 \n",
      "Val FDE: 60.3188591003418\n"
     ]
    },
    {
     "name": "stderr",
     "output_type": "stream",
     "text": [
      "\r",
      "Epoch:   0%|                               | 1/300 [02:21<11:46:31, 141.78s/it]"
     ]
    },
    {
     "name": "stdout",
     "output_type": "stream",
     "text": [
      "Epoch 1: \n",
      "Val ADE: 58.17808151245117 \n",
      "Val FDE: 51.15300750732422\n",
      "Best Epoch 1: \n",
      "Val ADE: 58.17808151245117 \n",
      "Val FDE: 51.15300750732422\n"
     ]
    },
    {
     "name": "stderr",
     "output_type": "stream",
     "text": [
      "\r",
      "Epoch:   1%|▏                              | 2/300 [04:43<11:43:24, 141.63s/it]"
     ]
    },
    {
     "name": "stdout",
     "output_type": "stream",
     "text": [
      "Epoch 2: \n",
      "Val ADE: 57.66023635864258 \n",
      "Val FDE: 44.39564895629883\n",
      "Best Epoch 2: \n",
      "Val ADE: 57.66023635864258 \n",
      "Val FDE: 44.39564895629883\n"
     ]
    },
    {
     "name": "stderr",
     "output_type": "stream",
     "text": [
      "\r",
      "Epoch:   1%|▎                              | 3/300 [07:04<11:41:07, 141.64s/it]"
     ]
    },
    {
     "name": "stdout",
     "output_type": "stream",
     "text": [
      "Epoch 3: \n",
      "Val ADE: 55.32828903198242 \n",
      "Val FDE: 44.78896713256836\n",
      "Best Epoch 3: \n",
      "Val ADE: 55.32828903198242 \n",
      "Val FDE: 44.78896713256836\n"
     ]
    },
    {
     "name": "stderr",
     "output_type": "stream",
     "text": [
      "\r",
      "Epoch:   1%|▍                              | 4/300 [09:27<11:41:21, 142.17s/it]"
     ]
    },
    {
     "name": "stdout",
     "output_type": "stream",
     "text": [
      "Epoch 4: \n",
      "Val ADE: 55.08549880981445 \n",
      "Val FDE: 48.546180725097656\n",
      "Best Epoch 4: \n",
      "Val ADE: 55.08549880981445 \n",
      "Val FDE: 48.546180725097656\n"
     ]
    },
    {
     "name": "stderr",
     "output_type": "stream",
     "text": [
      "\r",
      "Epoch:   2%|▌                              | 5/300 [11:51<11:41:36, 142.70s/it]"
     ]
    },
    {
     "name": "stdout",
     "output_type": "stream",
     "text": [
      "Epoch 5: \n",
      "Val ADE: 54.489688873291016 \n",
      "Val FDE: 52.80393981933594\n",
      "Best Epoch 5: \n",
      "Val ADE: 54.489688873291016 \n",
      "Val FDE: 52.80393981933594\n"
     ]
    },
    {
     "name": "stderr",
     "output_type": "stream",
     "text": [
      "\r",
      "Epoch:   2%|▌                              | 6/300 [14:15<11:41:22, 143.14s/it]"
     ]
    },
    {
     "name": "stdout",
     "output_type": "stream",
     "text": [
      "Epoch 6: \n",
      "Val ADE: 49.6933479309082 \n",
      "Val FDE: 46.3951416015625\n",
      "Best Epoch 6: \n",
      "Val ADE: 49.6933479309082 \n",
      "Val FDE: 46.3951416015625\n"
     ]
    },
    {
     "name": "stderr",
     "output_type": "stream",
     "text": [
      "\r",
      "Epoch:   2%|▋                              | 7/300 [16:39<11:40:33, 143.46s/it]"
     ]
    },
    {
     "name": "stdout",
     "output_type": "stream",
     "text": [
      "Epoch 7: \n",
      "Val ADE: 43.791358947753906 \n",
      "Val FDE: 41.53884506225586\n",
      "Best Epoch 7: \n",
      "Val ADE: 43.791358947753906 \n",
      "Val FDE: 41.53884506225586\n"
     ]
    },
    {
     "name": "stderr",
     "output_type": "stream",
     "text": [
      "\r",
      "Epoch:   3%|▊                              | 8/300 [19:04<11:39:41, 143.77s/it]"
     ]
    },
    {
     "name": "stdout",
     "output_type": "stream",
     "text": [
      "Epoch 8: \n",
      "Val ADE: 37.821807861328125 \n",
      "Val FDE: 45.45367431640625\n",
      "Best Epoch 8: \n",
      "Val ADE: 37.821807861328125 \n",
      "Val FDE: 45.45367431640625\n"
     ]
    },
    {
     "name": "stderr",
     "output_type": "stream",
     "text": [
      "\r",
      "Epoch:   3%|▉                              | 9/300 [21:28<11:38:34, 144.04s/it]"
     ]
    },
    {
     "name": "stdout",
     "output_type": "stream",
     "text": [
      "Epoch 9: \n",
      "Val ADE: 23.931949615478516 \n",
      "Val FDE: 30.003738403320312\n",
      "Best Epoch 9: \n",
      "Val ADE: 23.931949615478516 \n",
      "Val FDE: 30.003738403320312\n"
     ]
    },
    {
     "name": "stderr",
     "output_type": "stream",
     "text": [
      "Epoch:   4%|█                             | 11/300 [26:16<11:33:14, 143.93s/it]"
     ]
    },
    {
     "name": "stdout",
     "output_type": "stream",
     "text": [
      "Epoch 10: \n",
      "Val ADE: 30.979951858520508 \n",
      "Val FDE: 35.807579040527344\n"
     ]
    },
    {
     "name": "stderr",
     "output_type": "stream",
     "text": [
      "\r",
      "Epoch:   4%|█▏                            | 12/300 [28:39<11:29:33, 143.66s/it]"
     ]
    },
    {
     "name": "stdout",
     "output_type": "stream",
     "text": [
      "Epoch 11: \n",
      "Val ADE: 33.60120391845703 \n",
      "Val FDE: 35.0846061706543\n"
     ]
    },
    {
     "name": "stderr",
     "output_type": "stream",
     "text": [
      "\r",
      "Epoch:   4%|█▎                            | 13/300 [31:02<11:25:24, 143.29s/it]"
     ]
    },
    {
     "name": "stdout",
     "output_type": "stream",
     "text": [
      "Epoch 12: \n",
      "Val ADE: 27.297441482543945 \n",
      "Val FDE: 32.371131896972656\n"
     ]
    },
    {
     "name": "stderr",
     "output_type": "stream",
     "text": [
      "\r",
      "Epoch:   5%|█▍                            | 14/300 [33:24<11:21:47, 143.03s/it]"
     ]
    },
    {
     "name": "stdout",
     "output_type": "stream",
     "text": [
      "Epoch 13: \n",
      "Val ADE: 30.948270797729492 \n",
      "Val FDE: 33.79664993286133\n"
     ]
    },
    {
     "name": "stderr",
     "output_type": "stream",
     "text": [
      "\r",
      "Epoch:   5%|█▌                            | 15/300 [35:46<11:18:19, 142.81s/it]"
     ]
    },
    {
     "name": "stdout",
     "output_type": "stream",
     "text": [
      "Epoch 14: \n",
      "Val ADE: 33.99235153198242 \n",
      "Val FDE: 37.2933464050293\n"
     ]
    },
    {
     "name": "stderr",
     "output_type": "stream",
     "text": [
      "\r",
      "Epoch:   5%|█▌                            | 16/300 [38:09<11:15:31, 142.72s/it]"
     ]
    },
    {
     "name": "stdout",
     "output_type": "stream",
     "text": [
      "Epoch 15: \n",
      "Val ADE: 25.158273696899414 \n",
      "Val FDE: 26.020580291748047\n"
     ]
    },
    {
     "name": "stderr",
     "output_type": "stream",
     "text": [
      "\r",
      "Epoch:   6%|█▋                            | 17/300 [40:31<11:12:55, 142.67s/it]"
     ]
    },
    {
     "name": "stdout",
     "output_type": "stream",
     "text": [
      "Epoch 16: \n",
      "Val ADE: 31.320329666137695 \n",
      "Val FDE: 36.272823333740234\n"
     ]
    },
    {
     "name": "stderr",
     "output_type": "stream",
     "text": [
      "\r",
      "Epoch:   6%|█▊                            | 18/300 [42:54<11:10:22, 142.63s/it]"
     ]
    },
    {
     "name": "stdout",
     "output_type": "stream",
     "text": [
      "Epoch 17: \n",
      "Val ADE: 26.55084228515625 \n",
      "Val FDE: 32.91535949707031\n"
     ]
    },
    {
     "name": "stderr",
     "output_type": "stream",
     "text": [
      "\r",
      "Epoch:   6%|█▉                            | 19/300 [45:16<11:07:47, 142.59s/it]"
     ]
    },
    {
     "name": "stdout",
     "output_type": "stream",
     "text": [
      "Epoch 18: \n",
      "Val ADE: 26.485618591308594 \n",
      "Val FDE: 32.18318176269531\n"
     ]
    },
    {
     "name": "stderr",
     "output_type": "stream",
     "text": [
      "\r",
      "Epoch:   7%|██                            | 20/300 [47:39<11:05:03, 142.51s/it]"
     ]
    },
    {
     "name": "stdout",
     "output_type": "stream",
     "text": [
      "Epoch 19: \n",
      "Val ADE: 25.69063949584961 \n",
      "Val FDE: 29.143632888793945\n"
     ]
    },
    {
     "name": "stderr",
     "output_type": "stream",
     "text": [
      "\r",
      "Epoch:   7%|██                            | 21/300 [50:02<11:03:27, 142.68s/it]"
     ]
    },
    {
     "name": "stdout",
     "output_type": "stream",
     "text": [
      "Epoch 20: \n",
      "Val ADE: 24.354955673217773 \n",
      "Val FDE: 32.76577377319336\n"
     ]
    },
    {
     "name": "stderr",
     "output_type": "stream",
     "text": [
      "\r",
      "Epoch:   7%|██▏                           | 22/300 [52:24<11:01:00, 142.67s/it]"
     ]
    },
    {
     "name": "stdout",
     "output_type": "stream",
     "text": [
      "Epoch 21: \n",
      "Val ADE: 26.534839630126953 \n",
      "Val FDE: 26.604583740234375\n"
     ]
    },
    {
     "name": "stderr",
     "output_type": "stream",
     "text": [
      "\r",
      "Epoch:   8%|██▎                           | 23/300 [54:47<10:58:15, 142.58s/it]"
     ]
    },
    {
     "name": "stdout",
     "output_type": "stream",
     "text": [
      "Epoch 22: \n",
      "Val ADE: 27.84758949279785 \n",
      "Val FDE: 32.047340393066406\n"
     ]
    },
    {
     "name": "stderr",
     "output_type": "stream",
     "text": [
      "\r",
      "Epoch:   8%|██▍                           | 24/300 [57:10<10:57:21, 142.91s/it]"
     ]
    },
    {
     "name": "stdout",
     "output_type": "stream",
     "text": [
      "Epoch 23: \n",
      "Val ADE: 27.805612564086914 \n",
      "Val FDE: 31.53226661682129\n",
      "Epoch 24: \n",
      "Val ADE: 23.67442512512207 \n",
      "Val FDE: 28.513011932373047\n",
      "Best Epoch 24: \n",
      "Val ADE: 23.67442512512207 \n",
      "Val FDE: 28.513011932373047\n"
     ]
    },
    {
     "name": "stderr",
     "output_type": "stream",
     "text": [
      "Epoch:   9%|██▍                         | 26/300 [1:01:57<10:53:13, 143.04s/it]"
     ]
    },
    {
     "name": "stdout",
     "output_type": "stream",
     "text": [
      "Epoch 25: \n",
      "Val ADE: 24.90802001953125 \n",
      "Val FDE: 32.10791778564453\n"
     ]
    },
    {
     "name": "stderr",
     "output_type": "stream",
     "text": [
      "\r",
      "Epoch:   9%|██▌                         | 27/300 [1:04:20<10:50:05, 142.88s/it]"
     ]
    },
    {
     "name": "stdout",
     "output_type": "stream",
     "text": [
      "Epoch 26: \n",
      "Val ADE: 31.033100128173828 \n",
      "Val FDE: 38.90690231323242\n"
     ]
    },
    {
     "name": "stderr",
     "output_type": "stream",
     "text": [
      "\r",
      "Epoch:   9%|██▌                         | 28/300 [1:06:42<10:47:28, 142.82s/it]"
     ]
    },
    {
     "name": "stdout",
     "output_type": "stream",
     "text": [
      "Epoch 27: \n",
      "Val ADE: 24.9006290435791 \n",
      "Val FDE: 26.55425453186035\n"
     ]
    },
    {
     "name": "stderr",
     "output_type": "stream",
     "text": [
      "\r",
      "Epoch:  10%|██▋                         | 29/300 [1:09:05<10:44:24, 142.67s/it]"
     ]
    },
    {
     "name": "stdout",
     "output_type": "stream",
     "text": [
      "Epoch 28: \n",
      "Val ADE: 24.958955764770508 \n",
      "Val FDE: 29.315441131591797\n"
     ]
    },
    {
     "name": "stderr",
     "output_type": "stream",
     "text": [
      "\r",
      "Epoch:  10%|██▊                         | 30/300 [1:11:27<10:41:55, 142.65s/it]"
     ]
    },
    {
     "name": "stdout",
     "output_type": "stream",
     "text": [
      "Epoch 29: \n",
      "Val ADE: 25.04873275756836 \n",
      "Val FDE: 28.48614501953125\n"
     ]
    },
    {
     "name": "stderr",
     "output_type": "stream",
     "text": [
      "\r",
      "Epoch:  10%|██▉                         | 31/300 [1:13:50<10:39:38, 142.67s/it]"
     ]
    },
    {
     "name": "stdout",
     "output_type": "stream",
     "text": [
      "Epoch 30: \n",
      "Val ADE: 29.098466873168945 \n",
      "Val FDE: 30.40201187133789\n",
      "Epoch 31: \n",
      "Val ADE: 23.114471435546875 \n",
      "Val FDE: 26.874853134155273\n",
      "Best Epoch 31: \n",
      "Val ADE: 23.114471435546875 \n",
      "Val FDE: 26.874853134155273\n"
     ]
    },
    {
     "name": "stderr",
     "output_type": "stream",
     "text": [
      "Epoch:  11%|███                         | 33/300 [1:18:37<10:36:04, 142.94s/it]"
     ]
    },
    {
     "name": "stdout",
     "output_type": "stream",
     "text": [
      "Epoch 32: \n",
      "Val ADE: 25.40825843811035 \n",
      "Val FDE: 26.8471736907959\n"
     ]
    },
    {
     "name": "stderr",
     "output_type": "stream",
     "text": [
      "\r",
      "Epoch:  11%|███▏                        | 34/300 [1:20:59<10:32:57, 142.77s/it]"
     ]
    },
    {
     "name": "stdout",
     "output_type": "stream",
     "text": [
      "Epoch 33: \n",
      "Val ADE: 23.819019317626953 \n",
      "Val FDE: 26.991313934326172\n",
      "Epoch 34: \n",
      "Val ADE: 22.8262939453125 \n",
      "Val FDE: 21.73542594909668\n",
      "Best Epoch 34: \n",
      "Val ADE: 22.8262939453125 \n",
      "Val FDE: 21.73542594909668\n"
     ]
    },
    {
     "name": "stderr",
     "output_type": "stream",
     "text": [
      "Epoch:  12%|███▎                        | 36/300 [1:25:46<10:28:44, 142.90s/it]"
     ]
    },
    {
     "name": "stdout",
     "output_type": "stream",
     "text": [
      "Epoch 35: \n",
      "Val ADE: 23.173688888549805 \n",
      "Val FDE: 26.667278289794922\n"
     ]
    },
    {
     "name": "stderr",
     "output_type": "stream",
     "text": [
      "\r",
      "Epoch:  12%|███▍                        | 37/300 [1:28:08<10:25:19, 142.66s/it]"
     ]
    },
    {
     "name": "stdout",
     "output_type": "stream",
     "text": [
      "Epoch 36: \n",
      "Val ADE: 24.62975311279297 \n",
      "Val FDE: 27.41802978515625\n",
      "Epoch 37: \n",
      "Val ADE: 21.551158905029297 \n",
      "Val FDE: 22.22075843811035\n",
      "Best Epoch 37: \n",
      "Val ADE: 21.551158905029297 \n",
      "Val FDE: 22.22075843811035\n"
     ]
    },
    {
     "name": "stderr",
     "output_type": "stream",
     "text": [
      "Epoch:  13%|███▋                        | 39/300 [1:32:56<10:23:05, 143.24s/it]"
     ]
    },
    {
     "name": "stdout",
     "output_type": "stream",
     "text": [
      "Epoch 38: \n",
      "Val ADE: 23.54981803894043 \n",
      "Val FDE: 24.74569320678711\n"
     ]
    },
    {
     "name": "stderr",
     "output_type": "stream",
     "text": [
      "\r",
      "Epoch:  13%|███▋                        | 40/300 [1:35:18<10:19:45, 143.02s/it]"
     ]
    },
    {
     "name": "stdout",
     "output_type": "stream",
     "text": [
      "Epoch 39: \n",
      "Val ADE: 22.928150177001953 \n",
      "Val FDE: 22.210111618041992\n"
     ]
    },
    {
     "name": "stderr",
     "output_type": "stream",
     "text": [
      "\r",
      "Epoch:  14%|███▊                        | 41/300 [1:37:40<10:16:15, 142.76s/it]"
     ]
    },
    {
     "name": "stdout",
     "output_type": "stream",
     "text": [
      "Epoch 40: \n",
      "Val ADE: 22.938648223876953 \n",
      "Val FDE: 25.159454345703125\n"
     ]
    },
    {
     "name": "stderr",
     "output_type": "stream",
     "text": [
      "\r",
      "Epoch:  14%|███▉                        | 42/300 [1:40:03<10:13:24, 142.65s/it]"
     ]
    },
    {
     "name": "stdout",
     "output_type": "stream",
     "text": [
      "Epoch 41: \n",
      "Val ADE: 22.88088035583496 \n",
      "Val FDE: 22.58267593383789\n"
     ]
    },
    {
     "name": "stderr",
     "output_type": "stream",
     "text": [
      "\r",
      "Epoch:  14%|████                        | 43/300 [1:42:26<10:11:37, 142.79s/it]"
     ]
    },
    {
     "name": "stdout",
     "output_type": "stream",
     "text": [
      "Epoch 42: \n",
      "Val ADE: 23.636219024658203 \n",
      "Val FDE: 23.86339569091797\n"
     ]
    },
    {
     "name": "stderr",
     "output_type": "stream",
     "text": [
      "\r",
      "Epoch:  15%|████                        | 44/300 [1:44:49<10:09:14, 142.79s/it]"
     ]
    },
    {
     "name": "stdout",
     "output_type": "stream",
     "text": [
      "Epoch 43: \n",
      "Val ADE: 23.62889862060547 \n",
      "Val FDE: 26.491985321044922\n"
     ]
    },
    {
     "name": "stderr",
     "output_type": "stream",
     "text": [
      "\r",
      "Epoch:  15%|████▏                       | 45/300 [1:47:11<10:05:55, 142.57s/it]"
     ]
    },
    {
     "name": "stdout",
     "output_type": "stream",
     "text": [
      "Epoch 44: \n",
      "Val ADE: 23.97870635986328 \n",
      "Val FDE: 27.4187068939209\n"
     ]
    },
    {
     "name": "stderr",
     "output_type": "stream",
     "text": [
      "\r",
      "Epoch:  15%|████▎                       | 46/300 [1:49:33<10:02:51, 142.41s/it]"
     ]
    },
    {
     "name": "stdout",
     "output_type": "stream",
     "text": [
      "Epoch 45: \n",
      "Val ADE: 22.28493881225586 \n",
      "Val FDE: 24.10081672668457\n"
     ]
    },
    {
     "name": "stderr",
     "output_type": "stream",
     "text": [
      "\r",
      "Epoch:  16%|████▌                        | 47/300 [1:51:55<9:59:51, 142.26s/it]"
     ]
    },
    {
     "name": "stdout",
     "output_type": "stream",
     "text": [
      "Epoch 46: \n",
      "Val ADE: 23.23244857788086 \n",
      "Val FDE: 26.621694564819336\n"
     ]
    },
    {
     "name": "stderr",
     "output_type": "stream",
     "text": [
      "\r",
      "Epoch:  16%|████▋                        | 48/300 [1:54:17<9:57:11, 142.19s/it]"
     ]
    },
    {
     "name": "stdout",
     "output_type": "stream",
     "text": [
      "Epoch 47: \n",
      "Val ADE: 24.53885269165039 \n",
      "Val FDE: 26.256488800048828\n"
     ]
    },
    {
     "name": "stderr",
     "output_type": "stream",
     "text": [
      "\r",
      "Epoch:  16%|████▋                        | 49/300 [1:56:38<9:53:58, 141.99s/it]"
     ]
    },
    {
     "name": "stdout",
     "output_type": "stream",
     "text": [
      "Epoch 48: \n",
      "Val ADE: 23.30615234375 \n",
      "Val FDE: 23.198225021362305\n"
     ]
    },
    {
     "name": "stderr",
     "output_type": "stream",
     "text": [
      "\r",
      "Epoch:  17%|████▊                        | 50/300 [1:59:00<9:51:59, 142.08s/it]"
     ]
    },
    {
     "name": "stdout",
     "output_type": "stream",
     "text": [
      "Epoch 49: \n",
      "Val ADE: 25.264928817749023 \n",
      "Val FDE: 24.746217727661133\n"
     ]
    },
    {
     "name": "stderr",
     "output_type": "stream",
     "text": [
      "\r",
      "Epoch:  17%|████▉                        | 51/300 [2:01:22<9:49:01, 141.93s/it]"
     ]
    },
    {
     "name": "stdout",
     "output_type": "stream",
     "text": [
      "Epoch 50: \n",
      "Val ADE: 23.941085815429688 \n",
      "Val FDE: 25.526153564453125\n"
     ]
    },
    {
     "name": "stderr",
     "output_type": "stream",
     "text": [
      "\r",
      "Epoch:  17%|█████                        | 52/300 [2:03:44<9:46:40, 141.94s/it]"
     ]
    },
    {
     "name": "stdout",
     "output_type": "stream",
     "text": [
      "Epoch 51: \n",
      "Val ADE: 23.848840713500977 \n",
      "Val FDE: 23.317182540893555\n"
     ]
    },
    {
     "name": "stderr",
     "output_type": "stream",
     "text": [
      "\r",
      "Epoch:  18%|█████                        | 53/300 [2:06:06<9:44:09, 141.90s/it]"
     ]
    },
    {
     "name": "stdout",
     "output_type": "stream",
     "text": [
      "Epoch 52: \n",
      "Val ADE: 25.773712158203125 \n",
      "Val FDE: 25.53042984008789\n"
     ]
    },
    {
     "name": "stderr",
     "output_type": "stream",
     "text": [
      "\r",
      "Epoch:  18%|█████▏                       | 54/300 [2:08:28<9:42:13, 142.01s/it]"
     ]
    },
    {
     "name": "stdout",
     "output_type": "stream",
     "text": [
      "Epoch 53: \n",
      "Val ADE: 27.09507942199707 \n",
      "Val FDE: 33.3929328918457\n"
     ]
    },
    {
     "name": "stderr",
     "output_type": "stream",
     "text": [
      "\r",
      "Epoch:  18%|█████▎                       | 55/300 [2:10:50<9:39:40, 141.96s/it]"
     ]
    },
    {
     "name": "stdout",
     "output_type": "stream",
     "text": [
      "Epoch 54: \n",
      "Val ADE: 26.237321853637695 \n",
      "Val FDE: 28.387807846069336\n"
     ]
    },
    {
     "name": "stderr",
     "output_type": "stream",
     "text": [
      "\r",
      "Epoch:  19%|█████▍                       | 56/300 [2:13:12<9:36:53, 141.86s/it]"
     ]
    },
    {
     "name": "stdout",
     "output_type": "stream",
     "text": [
      "Epoch 55: \n",
      "Val ADE: 25.061201095581055 \n",
      "Val FDE: 24.010719299316406\n"
     ]
    },
    {
     "name": "stderr",
     "output_type": "stream",
     "text": [
      "\r",
      "Epoch:  19%|█████▌                       | 57/300 [2:15:34<9:34:52, 141.94s/it]"
     ]
    },
    {
     "name": "stdout",
     "output_type": "stream",
     "text": [
      "Epoch 56: \n",
      "Val ADE: 24.70453453063965 \n",
      "Val FDE: 26.98349380493164\n"
     ]
    },
    {
     "name": "stderr",
     "output_type": "stream",
     "text": [
      "\r",
      "Epoch:  19%|█████▌                       | 58/300 [2:17:55<9:32:19, 141.90s/it]"
     ]
    },
    {
     "name": "stdout",
     "output_type": "stream",
     "text": [
      "Epoch 57: \n",
      "Val ADE: 24.09488868713379 \n",
      "Val FDE: 27.81464385986328\n"
     ]
    },
    {
     "name": "stderr",
     "output_type": "stream",
     "text": [
      "\r",
      "Epoch:  20%|█████▋                       | 59/300 [2:20:17<9:29:43, 141.84s/it]"
     ]
    },
    {
     "name": "stdout",
     "output_type": "stream",
     "text": [
      "Epoch 58: \n",
      "Val ADE: 26.469226837158203 \n",
      "Val FDE: 30.68775177001953\n"
     ]
    },
    {
     "name": "stderr",
     "output_type": "stream",
     "text": [
      "\r",
      "Epoch:  20%|█████▊                       | 60/300 [2:22:39<9:27:10, 141.79s/it]"
     ]
    },
    {
     "name": "stdout",
     "output_type": "stream",
     "text": [
      "Epoch 59: \n",
      "Val ADE: 25.49600601196289 \n",
      "Val FDE: 30.203832626342773\n"
     ]
    },
    {
     "name": "stderr",
     "output_type": "stream",
     "text": [
      "\r",
      "Epoch:  20%|█████▉                       | 61/300 [2:25:01<9:25:25, 141.95s/it]"
     ]
    },
    {
     "name": "stdout",
     "output_type": "stream",
     "text": [
      "Epoch 60: \n",
      "Val ADE: 22.419527053833008 \n",
      "Val FDE: 26.900480270385742\n"
     ]
    },
    {
     "name": "stderr",
     "output_type": "stream",
     "text": [
      "\r",
      "Epoch:  21%|█████▉                       | 62/300 [2:27:23<9:23:29, 142.06s/it]"
     ]
    },
    {
     "name": "stdout",
     "output_type": "stream",
     "text": [
      "Epoch 61: \n",
      "Val ADE: 24.49030113220215 \n",
      "Val FDE: 27.412473678588867\n"
     ]
    },
    {
     "name": "stderr",
     "output_type": "stream",
     "text": [
      "\r",
      "Epoch:  21%|██████                       | 63/300 [2:29:45<9:20:10, 141.81s/it]"
     ]
    },
    {
     "name": "stdout",
     "output_type": "stream",
     "text": [
      "Epoch 62: \n",
      "Val ADE: 23.25963592529297 \n",
      "Val FDE: 24.900390625\n"
     ]
    },
    {
     "name": "stderr",
     "output_type": "stream",
     "text": [
      "\r",
      "Epoch:  21%|██████▏                      | 64/300 [2:32:06<9:17:41, 141.78s/it]"
     ]
    },
    {
     "name": "stdout",
     "output_type": "stream",
     "text": [
      "Epoch 63: \n",
      "Val ADE: 24.066495895385742 \n",
      "Val FDE: 24.891447067260742\n"
     ]
    },
    {
     "name": "stderr",
     "output_type": "stream",
     "text": [
      "\r",
      "Epoch:  22%|██████▎                      | 65/300 [2:34:28<9:15:15, 141.77s/it]"
     ]
    },
    {
     "name": "stdout",
     "output_type": "stream",
     "text": [
      "Epoch 64: \n",
      "Val ADE: 23.78841781616211 \n",
      "Val FDE: 27.035585403442383\n"
     ]
    },
    {
     "name": "stderr",
     "output_type": "stream",
     "text": [
      "\r",
      "Epoch:  22%|██████▍                      | 66/300 [2:36:50<9:12:24, 141.65s/it]"
     ]
    },
    {
     "name": "stdout",
     "output_type": "stream",
     "text": [
      "Epoch 65: \n",
      "Val ADE: 24.847871780395508 \n",
      "Val FDE: 29.76004981994629\n"
     ]
    },
    {
     "name": "stderr",
     "output_type": "stream",
     "text": [
      "\r",
      "Epoch:  22%|██████▍                      | 67/300 [2:39:11<9:10:01, 141.64s/it]"
     ]
    },
    {
     "name": "stdout",
     "output_type": "stream",
     "text": [
      "Epoch 66: \n",
      "Val ADE: 24.023563385009766 \n",
      "Val FDE: 28.057958602905273\n"
     ]
    },
    {
     "name": "stderr",
     "output_type": "stream",
     "text": [
      "\r",
      "Epoch:  23%|██████▌                      | 68/300 [2:41:33<9:07:20, 141.55s/it]"
     ]
    },
    {
     "name": "stdout",
     "output_type": "stream",
     "text": [
      "Epoch 67: \n",
      "Val ADE: 24.54526710510254 \n",
      "Val FDE: 31.660694122314453\n"
     ]
    },
    {
     "name": "stderr",
     "output_type": "stream",
     "text": [
      "\r",
      "Epoch:  23%|██████▋                      | 69/300 [2:43:54<9:04:49, 141.51s/it]"
     ]
    },
    {
     "name": "stdout",
     "output_type": "stream",
     "text": [
      "Epoch 68: \n",
      "Val ADE: 24.010879516601562 \n",
      "Val FDE: 28.059356689453125\n"
     ]
    },
    {
     "name": "stderr",
     "output_type": "stream",
     "text": [
      "\r",
      "Epoch:  23%|██████▊                      | 70/300 [2:46:15<9:02:15, 141.46s/it]"
     ]
    },
    {
     "name": "stdout",
     "output_type": "stream",
     "text": [
      "Epoch 69: \n",
      "Val ADE: 21.865867614746094 \n",
      "Val FDE: 27.136629104614258\n"
     ]
    },
    {
     "name": "stderr",
     "output_type": "stream",
     "text": [
      "\r",
      "Epoch:  24%|██████▊                      | 71/300 [2:48:37<9:00:19, 141.57s/it]"
     ]
    },
    {
     "name": "stdout",
     "output_type": "stream",
     "text": [
      "Epoch 70: \n",
      "Val ADE: 24.42695426940918 \n",
      "Val FDE: 29.114009857177734\n"
     ]
    },
    {
     "name": "stderr",
     "output_type": "stream",
     "text": [
      "\r",
      "Epoch:  24%|██████▉                      | 72/300 [2:50:59<8:57:50, 141.54s/it]"
     ]
    },
    {
     "name": "stdout",
     "output_type": "stream",
     "text": [
      "Epoch 71: \n",
      "Val ADE: 24.128376007080078 \n",
      "Val FDE: 28.772829055786133\n"
     ]
    },
    {
     "name": "stderr",
     "output_type": "stream",
     "text": [
      "\r",
      "Epoch:  24%|███████                      | 73/300 [2:53:20<8:55:30, 141.54s/it]"
     ]
    },
    {
     "name": "stdout",
     "output_type": "stream",
     "text": [
      "Epoch 72: \n",
      "Val ADE: 25.851924896240234 \n",
      "Val FDE: 31.867843627929688\n"
     ]
    },
    {
     "name": "stderr",
     "output_type": "stream",
     "text": [
      "\r",
      "Epoch:  25%|███████▏                     | 74/300 [2:55:41<8:52:57, 141.49s/it]"
     ]
    },
    {
     "name": "stdout",
     "output_type": "stream",
     "text": [
      "Epoch 73: \n",
      "Val ADE: 24.037860870361328 \n",
      "Val FDE: 29.87864875793457\n"
     ]
    },
    {
     "name": "stderr",
     "output_type": "stream",
     "text": [
      "\r",
      "Epoch:  25%|███████▎                     | 75/300 [2:58:03<8:50:59, 141.60s/it]"
     ]
    },
    {
     "name": "stdout",
     "output_type": "stream",
     "text": [
      "Epoch 74: \n",
      "Val ADE: 26.946147918701172 \n",
      "Val FDE: 31.456375122070312\n"
     ]
    },
    {
     "name": "stderr",
     "output_type": "stream",
     "text": [
      "\r",
      "Epoch:  25%|███████▎                     | 76/300 [3:00:25<8:48:23, 141.53s/it]"
     ]
    },
    {
     "name": "stdout",
     "output_type": "stream",
     "text": [
      "Epoch 75: \n",
      "Val ADE: 22.186412811279297 \n",
      "Val FDE: 26.32906723022461\n"
     ]
    },
    {
     "name": "stderr",
     "output_type": "stream",
     "text": [
      "\r",
      "Epoch:  26%|███████▍                     | 77/300 [3:02:46<8:46:00, 141.52s/it]"
     ]
    },
    {
     "name": "stdout",
     "output_type": "stream",
     "text": [
      "Epoch 76: \n",
      "Val ADE: 25.105958938598633 \n",
      "Val FDE: 29.795120239257812\n"
     ]
    },
    {
     "name": "stderr",
     "output_type": "stream",
     "text": [
      "\r",
      "Epoch:  26%|███████▌                     | 78/300 [3:05:08<8:43:27, 141.48s/it]"
     ]
    },
    {
     "name": "stdout",
     "output_type": "stream",
     "text": [
      "Epoch 77: \n",
      "Val ADE: 25.89971351623535 \n",
      "Val FDE: 33.05531692504883\n"
     ]
    },
    {
     "name": "stderr",
     "output_type": "stream",
     "text": [
      "\r",
      "Epoch:  26%|███████▋                     | 79/300 [3:07:29<8:41:14, 141.51s/it]"
     ]
    },
    {
     "name": "stdout",
     "output_type": "stream",
     "text": [
      "Epoch 78: \n",
      "Val ADE: 25.160297393798828 \n",
      "Val FDE: 30.889225006103516\n"
     ]
    },
    {
     "name": "stderr",
     "output_type": "stream",
     "text": [
      "\r",
      "Epoch:  27%|███████▋                     | 80/300 [3:09:51<8:38:44, 141.48s/it]"
     ]
    },
    {
     "name": "stdout",
     "output_type": "stream",
     "text": [
      "Epoch 79: \n",
      "Val ADE: 24.913883209228516 \n",
      "Val FDE: 30.56513786315918\n"
     ]
    },
    {
     "name": "stderr",
     "output_type": "stream",
     "text": [
      "\r",
      "Epoch:  27%|███████▊                     | 81/300 [3:12:12<8:36:10, 141.42s/it]"
     ]
    },
    {
     "name": "stdout",
     "output_type": "stream",
     "text": [
      "Epoch 80: \n",
      "Val ADE: 23.560916900634766 \n",
      "Val FDE: 29.302364349365234\n"
     ]
    },
    {
     "name": "stderr",
     "output_type": "stream",
     "text": [
      "\r",
      "Epoch:  27%|███████▉                     | 82/300 [3:14:34<8:34:15, 141.54s/it]"
     ]
    },
    {
     "name": "stdout",
     "output_type": "stream",
     "text": [
      "Epoch 81: \n",
      "Val ADE: 26.58597755432129 \n",
      "Val FDE: 34.691001892089844\n"
     ]
    },
    {
     "name": "stderr",
     "output_type": "stream",
     "text": [
      "\r",
      "Epoch:  28%|████████                     | 83/300 [3:16:55<8:32:07, 141.60s/it]"
     ]
    },
    {
     "name": "stdout",
     "output_type": "stream",
     "text": [
      "Epoch 82: \n",
      "Val ADE: 24.43916130065918 \n",
      "Val FDE: 31.157577514648438\n"
     ]
    },
    {
     "name": "stderr",
     "output_type": "stream",
     "text": [
      "\r",
      "Epoch:  28%|████████                     | 84/300 [3:19:17<8:30:10, 141.72s/it]"
     ]
    },
    {
     "name": "stdout",
     "output_type": "stream",
     "text": [
      "Epoch 83: \n",
      "Val ADE: 30.098194122314453 \n",
      "Val FDE: 38.14619827270508\n"
     ]
    },
    {
     "name": "stderr",
     "output_type": "stream",
     "text": [
      "\r",
      "Epoch:  28%|████████▏                    | 85/300 [3:21:39<8:27:27, 141.62s/it]"
     ]
    },
    {
     "name": "stdout",
     "output_type": "stream",
     "text": [
      "Epoch 84: \n",
      "Val ADE: 25.036771774291992 \n",
      "Val FDE: 28.989381790161133\n"
     ]
    },
    {
     "name": "stderr",
     "output_type": "stream",
     "text": [
      "\r",
      "Epoch:  29%|████████▎                    | 86/300 [3:24:01<8:25:31, 141.74s/it]"
     ]
    },
    {
     "name": "stdout",
     "output_type": "stream",
     "text": [
      "Epoch 85: \n",
      "Val ADE: 28.628549575805664 \n",
      "Val FDE: 38.87897491455078\n"
     ]
    },
    {
     "name": "stderr",
     "output_type": "stream",
     "text": [
      "\r",
      "Epoch:  29%|████████▍                    | 87/300 [3:26:23<8:23:19, 141.78s/it]"
     ]
    },
    {
     "name": "stdout",
     "output_type": "stream",
     "text": [
      "Epoch 86: \n",
      "Val ADE: 24.30328369140625 \n",
      "Val FDE: 30.65980339050293\n"
     ]
    },
    {
     "name": "stderr",
     "output_type": "stream",
     "text": [
      "\r",
      "Epoch:  29%|████████▌                    | 88/300 [3:28:44<8:20:29, 141.65s/it]"
     ]
    },
    {
     "name": "stdout",
     "output_type": "stream",
     "text": [
      "Epoch 87: \n",
      "Val ADE: 27.950571060180664 \n",
      "Val FDE: 34.25117111206055\n"
     ]
    },
    {
     "name": "stderr",
     "output_type": "stream",
     "text": [
      "\r",
      "Epoch:  30%|████████▌                    | 89/300 [3:31:06<8:18:18, 141.70s/it]"
     ]
    },
    {
     "name": "stdout",
     "output_type": "stream",
     "text": [
      "Epoch 88: \n",
      "Val ADE: 23.825632095336914 \n",
      "Val FDE: 27.695819854736328\n"
     ]
    },
    {
     "name": "stderr",
     "output_type": "stream",
     "text": [
      "\r",
      "Epoch:  30%|████████▋                    | 90/300 [3:33:28<8:16:10, 141.76s/it]"
     ]
    },
    {
     "name": "stdout",
     "output_type": "stream",
     "text": [
      "Epoch 89: \n",
      "Val ADE: 30.665163040161133 \n",
      "Val FDE: 38.84877014160156\n"
     ]
    },
    {
     "name": "stderr",
     "output_type": "stream",
     "text": [
      "\r",
      "Epoch:  30%|████████▊                    | 91/300 [3:35:49<8:13:17, 141.62s/it]"
     ]
    },
    {
     "name": "stdout",
     "output_type": "stream",
     "text": [
      "Epoch 90: \n",
      "Val ADE: 27.89727783203125 \n",
      "Val FDE: 34.091400146484375\n"
     ]
    },
    {
     "name": "stderr",
     "output_type": "stream",
     "text": [
      "\r",
      "Epoch:  31%|████████▉                    | 92/300 [3:38:10<8:10:33, 141.51s/it]"
     ]
    },
    {
     "name": "stdout",
     "output_type": "stream",
     "text": [
      "Epoch 91: \n",
      "Val ADE: 27.77047348022461 \n",
      "Val FDE: 33.575374603271484\n"
     ]
    },
    {
     "name": "stderr",
     "output_type": "stream",
     "text": [
      "\r",
      "Epoch:  31%|████████▉                    | 93/300 [3:40:32<8:08:02, 141.46s/it]"
     ]
    },
    {
     "name": "stdout",
     "output_type": "stream",
     "text": [
      "Epoch 92: \n",
      "Val ADE: 23.625667572021484 \n",
      "Val FDE: 29.38964080810547\n"
     ]
    },
    {
     "name": "stderr",
     "output_type": "stream",
     "text": [
      "\r",
      "Epoch:  31%|█████████                    | 94/300 [3:42:54<8:06:14, 141.62s/it]"
     ]
    },
    {
     "name": "stdout",
     "output_type": "stream",
     "text": [
      "Epoch 93: \n",
      "Val ADE: 23.967796325683594 \n",
      "Val FDE: 29.15068817138672\n"
     ]
    },
    {
     "name": "stderr",
     "output_type": "stream",
     "text": [
      "\r",
      "Epoch:  32%|█████████▏                   | 95/300 [3:45:16<8:04:31, 141.81s/it]"
     ]
    },
    {
     "name": "stdout",
     "output_type": "stream",
     "text": [
      "Epoch 94: \n",
      "Val ADE: 26.91221046447754 \n",
      "Val FDE: 34.070613861083984\n"
     ]
    },
    {
     "name": "stderr",
     "output_type": "stream",
     "text": [
      "\r",
      "Epoch:  32%|█████████▎                   | 96/300 [3:47:37<8:01:50, 141.72s/it]"
     ]
    },
    {
     "name": "stdout",
     "output_type": "stream",
     "text": [
      "Epoch 95: \n",
      "Val ADE: 29.310077667236328 \n",
      "Val FDE: 36.911834716796875\n"
     ]
    },
    {
     "name": "stderr",
     "output_type": "stream",
     "text": [
      "\r",
      "Epoch:  32%|█████████▍                   | 97/300 [3:49:59<7:59:21, 141.68s/it]"
     ]
    },
    {
     "name": "stdout",
     "output_type": "stream",
     "text": [
      "Epoch 96: \n",
      "Val ADE: 25.75108528137207 \n",
      "Val FDE: 30.008264541625977\n"
     ]
    },
    {
     "name": "stderr",
     "output_type": "stream",
     "text": [
      "\r",
      "Epoch:  33%|█████████▍                   | 98/300 [3:52:21<7:57:19, 141.78s/it]"
     ]
    },
    {
     "name": "stdout",
     "output_type": "stream",
     "text": [
      "Epoch 97: \n",
      "Val ADE: 25.336694717407227 \n",
      "Val FDE: 30.461414337158203\n"
     ]
    },
    {
     "name": "stderr",
     "output_type": "stream",
     "text": [
      "\r",
      "Epoch:  33%|█████████▌                   | 99/300 [3:54:43<7:54:42, 141.70s/it]"
     ]
    },
    {
     "name": "stdout",
     "output_type": "stream",
     "text": [
      "Epoch 98: \n",
      "Val ADE: 25.70629119873047 \n",
      "Val FDE: 31.373027801513672\n"
     ]
    },
    {
     "name": "stderr",
     "output_type": "stream",
     "text": [
      "\r",
      "Epoch:  33%|█████████▎                  | 100/300 [3:57:04<7:52:30, 141.75s/it]"
     ]
    },
    {
     "name": "stdout",
     "output_type": "stream",
     "text": [
      "Epoch 99: \n",
      "Val ADE: 25.5917911529541 \n",
      "Val FDE: 32.68386459350586\n"
     ]
    },
    {
     "name": "stderr",
     "output_type": "stream",
     "text": [
      "\r",
      "Epoch:  34%|█████████▍                  | 101/300 [3:59:50<8:14:21, 149.06s/it]"
     ]
    },
    {
     "name": "stdout",
     "output_type": "stream",
     "text": [
      "Epoch 100: \n",
      "Val ADE: 25.685482025146484 \n",
      "Val FDE: 32.96802520751953\n"
     ]
    },
    {
     "name": "stderr",
     "output_type": "stream",
     "text": [
      "\r",
      "Epoch:  34%|█████████▌                  | 102/300 [4:02:37<8:28:42, 154.15s/it]"
     ]
    },
    {
     "name": "stdout",
     "output_type": "stream",
     "text": [
      "Epoch 101: \n",
      "Val ADE: 25.127887725830078 \n",
      "Val FDE: 28.357393264770508\n"
     ]
    },
    {
     "name": "stderr",
     "output_type": "stream",
     "text": [
      "\r",
      "Epoch:  34%|█████████▌                  | 103/300 [4:05:23<8:37:46, 157.70s/it]"
     ]
    },
    {
     "name": "stdout",
     "output_type": "stream",
     "text": [
      "Epoch 102: \n",
      "Val ADE: 25.809226989746094 \n",
      "Val FDE: 30.693336486816406\n"
     ]
    },
    {
     "name": "stderr",
     "output_type": "stream",
     "text": [
      "\r",
      "Epoch:  35%|█████████▋                  | 104/300 [4:08:09<8:43:31, 160.26s/it]"
     ]
    },
    {
     "name": "stdout",
     "output_type": "stream",
     "text": [
      "Epoch 103: \n",
      "Val ADE: 32.794029235839844 \n",
      "Val FDE: 40.74893569946289\n"
     ]
    },
    {
     "name": "stderr",
     "output_type": "stream",
     "text": [
      "\r",
      "Epoch:  35%|█████████▊                  | 105/300 [4:10:55<8:46:43, 162.07s/it]"
     ]
    },
    {
     "name": "stdout",
     "output_type": "stream",
     "text": [
      "Epoch 104: \n",
      "Val ADE: 25.19637680053711 \n",
      "Val FDE: 29.65056800842285\n"
     ]
    },
    {
     "name": "stderr",
     "output_type": "stream",
     "text": [
      "\r",
      "Epoch:  35%|█████████▉                  | 106/300 [4:13:41<8:48:01, 163.31s/it]"
     ]
    },
    {
     "name": "stdout",
     "output_type": "stream",
     "text": [
      "Epoch 105: \n",
      "Val ADE: 26.13739776611328 \n",
      "Val FDE: 31.72140121459961\n"
     ]
    },
    {
     "name": "stderr",
     "output_type": "stream",
     "text": [
      "\r",
      "Epoch:  36%|█████████▉                  | 107/300 [4:16:27<8:48:04, 164.17s/it]"
     ]
    },
    {
     "name": "stdout",
     "output_type": "stream",
     "text": [
      "Epoch 106: \n",
      "Val ADE: 25.53129005432129 \n",
      "Val FDE: 30.17372703552246\n"
     ]
    },
    {
     "name": "stderr",
     "output_type": "stream",
     "text": [
      "\r",
      "Epoch:  36%|██████████                  | 108/300 [4:19:13<8:46:57, 164.67s/it]"
     ]
    },
    {
     "name": "stdout",
     "output_type": "stream",
     "text": [
      "Epoch 107: \n",
      "Val ADE: 25.733888626098633 \n",
      "Val FDE: 30.632953643798828\n"
     ]
    },
    {
     "name": "stderr",
     "output_type": "stream",
     "text": [
      "\r",
      "Epoch:  36%|██████████▏                 | 109/300 [4:21:59<8:45:31, 165.09s/it]"
     ]
    },
    {
     "name": "stdout",
     "output_type": "stream",
     "text": [
      "Epoch 108: \n",
      "Val ADE: 25.20311737060547 \n",
      "Val FDE: 29.94068145751953\n"
     ]
    },
    {
     "name": "stderr",
     "output_type": "stream",
     "text": [
      "\r",
      "Epoch:  37%|██████████▎                 | 110/300 [4:24:45<8:43:46, 165.40s/it]"
     ]
    },
    {
     "name": "stdout",
     "output_type": "stream",
     "text": [
      "Epoch 109: \n",
      "Val ADE: 26.56856346130371 \n",
      "Val FDE: 31.313823699951172\n"
     ]
    },
    {
     "name": "stderr",
     "output_type": "stream",
     "text": [
      "\r",
      "Epoch:  37%|██████████▎                 | 111/300 [4:27:32<8:42:17, 165.80s/it]"
     ]
    },
    {
     "name": "stdout",
     "output_type": "stream",
     "text": [
      "Epoch 110: \n",
      "Val ADE: 26.54418182373047 \n",
      "Val FDE: 33.099884033203125\n"
     ]
    },
    {
     "name": "stderr",
     "output_type": "stream",
     "text": [
      "\r",
      "Epoch:  37%|██████████▍                 | 112/300 [4:30:19<8:40:49, 166.22s/it]"
     ]
    },
    {
     "name": "stdout",
     "output_type": "stream",
     "text": [
      "Epoch 111: \n",
      "Val ADE: 25.71933937072754 \n",
      "Val FDE: 34.33811569213867\n"
     ]
    },
    {
     "name": "stderr",
     "output_type": "stream",
     "text": [
      "\r",
      "Epoch:  38%|██████████▌                 | 113/300 [4:33:05<8:37:38, 166.09s/it]"
     ]
    },
    {
     "name": "stdout",
     "output_type": "stream",
     "text": [
      "Epoch 112: \n",
      "Val ADE: 31.40727996826172 \n",
      "Val FDE: 38.363067626953125\n"
     ]
    },
    {
     "name": "stderr",
     "output_type": "stream",
     "text": [
      "\r",
      "Epoch:  38%|██████████▋                 | 114/300 [4:35:51<8:34:55, 166.11s/it]"
     ]
    },
    {
     "name": "stdout",
     "output_type": "stream",
     "text": [
      "Epoch 113: \n",
      "Val ADE: 24.83667755126953 \n",
      "Val FDE: 30.097745895385742\n"
     ]
    },
    {
     "name": "stderr",
     "output_type": "stream",
     "text": [
      "\r",
      "Epoch:  38%|██████████▋                 | 115/300 [4:38:37<8:32:02, 166.07s/it]"
     ]
    },
    {
     "name": "stdout",
     "output_type": "stream",
     "text": [
      "Epoch 114: \n",
      "Val ADE: 24.70885467529297 \n",
      "Val FDE: 32.329498291015625\n"
     ]
    },
    {
     "name": "stderr",
     "output_type": "stream",
     "text": [
      "\r",
      "Epoch:  39%|██████████▊                 | 116/300 [4:41:23<8:29:04, 166.00s/it]"
     ]
    },
    {
     "name": "stdout",
     "output_type": "stream",
     "text": [
      "Epoch 115: \n",
      "Val ADE: 25.662260055541992 \n",
      "Val FDE: 32.43721389770508\n"
     ]
    },
    {
     "name": "stderr",
     "output_type": "stream",
     "text": [
      "\r",
      "Epoch:  39%|██████████▉                 | 117/300 [4:44:09<8:26:15, 165.98s/it]"
     ]
    },
    {
     "name": "stdout",
     "output_type": "stream",
     "text": [
      "Epoch 116: \n",
      "Val ADE: 26.258230209350586 \n",
      "Val FDE: 30.094650268554688\n"
     ]
    },
    {
     "name": "stderr",
     "output_type": "stream",
     "text": [
      "\r",
      "Epoch:  39%|███████████                 | 118/300 [4:46:55<8:23:25, 165.96s/it]"
     ]
    },
    {
     "name": "stdout",
     "output_type": "stream",
     "text": [
      "Epoch 117: \n",
      "Val ADE: 24.190126419067383 \n",
      "Val FDE: 29.137813568115234\n"
     ]
    },
    {
     "name": "stderr",
     "output_type": "stream",
     "text": [
      "\r",
      "Epoch:  40%|███████████                 | 119/300 [4:49:41<8:20:55, 166.05s/it]"
     ]
    },
    {
     "name": "stdout",
     "output_type": "stream",
     "text": [
      "Epoch 118: \n",
      "Val ADE: 23.851703643798828 \n",
      "Val FDE: 30.260854721069336\n"
     ]
    },
    {
     "name": "stderr",
     "output_type": "stream",
     "text": [
      "\r",
      "Epoch:  40%|███████████▏                | 120/300 [4:52:27<8:17:44, 165.92s/it]"
     ]
    },
    {
     "name": "stdout",
     "output_type": "stream",
     "text": [
      "Epoch 119: \n",
      "Val ADE: 24.29267692565918 \n",
      "Val FDE: 30.26299285888672\n"
     ]
    },
    {
     "name": "stderr",
     "output_type": "stream",
     "text": [
      "\r",
      "Epoch:  40%|███████████▎                | 121/300 [4:55:13<8:15:17, 166.02s/it]"
     ]
    },
    {
     "name": "stdout",
     "output_type": "stream",
     "text": [
      "Epoch 120: \n",
      "Val ADE: 26.568998336791992 \n",
      "Val FDE: 34.711856842041016\n"
     ]
    },
    {
     "name": "stderr",
     "output_type": "stream",
     "text": [
      "\r",
      "Epoch:  41%|███████████▍                | 122/300 [4:57:59<8:12:18, 165.95s/it]"
     ]
    },
    {
     "name": "stdout",
     "output_type": "stream",
     "text": [
      "Epoch 121: \n",
      "Val ADE: 26.067506790161133 \n",
      "Val FDE: 33.23684310913086\n"
     ]
    },
    {
     "name": "stderr",
     "output_type": "stream",
     "text": [
      "\r",
      "Epoch:  41%|███████████▍                | 123/300 [5:00:45<8:09:23, 165.89s/it]"
     ]
    },
    {
     "name": "stdout",
     "output_type": "stream",
     "text": [
      "Epoch 122: \n",
      "Val ADE: 29.609262466430664 \n",
      "Val FDE: 39.5898323059082\n"
     ]
    },
    {
     "name": "stderr",
     "output_type": "stream",
     "text": [
      "\r",
      "Epoch:  41%|███████████▌                | 124/300 [5:03:30<8:06:24, 165.82s/it]"
     ]
    },
    {
     "name": "stdout",
     "output_type": "stream",
     "text": [
      "Epoch 123: \n",
      "Val ADE: 27.539695739746094 \n",
      "Val FDE: 37.19819641113281\n"
     ]
    },
    {
     "name": "stderr",
     "output_type": "stream",
     "text": [
      "\r",
      "Epoch:  42%|███████████▋                | 125/300 [5:06:17<8:03:58, 165.94s/it]"
     ]
    },
    {
     "name": "stdout",
     "output_type": "stream",
     "text": [
      "Epoch 124: \n",
      "Val ADE: 27.40850067138672 \n",
      "Val FDE: 35.93561553955078\n"
     ]
    },
    {
     "name": "stderr",
     "output_type": "stream",
     "text": [
      "\r",
      "Epoch:  42%|███████████▊                | 126/300 [5:09:03<8:01:36, 166.07s/it]"
     ]
    },
    {
     "name": "stdout",
     "output_type": "stream",
     "text": [
      "Epoch 125: \n",
      "Val ADE: 31.057003021240234 \n",
      "Val FDE: 40.55266571044922\n"
     ]
    },
    {
     "name": "stderr",
     "output_type": "stream",
     "text": [
      "\r",
      "Epoch:  42%|███████████▊                | 127/300 [5:11:49<7:58:42, 166.02s/it]"
     ]
    },
    {
     "name": "stdout",
     "output_type": "stream",
     "text": [
      "Epoch 126: \n",
      "Val ADE: 25.74371337890625 \n",
      "Val FDE: 30.073753356933594\n"
     ]
    },
    {
     "name": "stderr",
     "output_type": "stream",
     "text": [
      "\r",
      "Epoch:  43%|███████████▉                | 128/300 [5:14:35<7:56:10, 166.11s/it]"
     ]
    },
    {
     "name": "stdout",
     "output_type": "stream",
     "text": [
      "Epoch 127: \n",
      "Val ADE: 26.58805274963379 \n",
      "Val FDE: 31.741037368774414\n"
     ]
    },
    {
     "name": "stderr",
     "output_type": "stream",
     "text": [
      "\r",
      "Epoch:  43%|████████████                | 129/300 [5:17:21<7:53:10, 166.03s/it]"
     ]
    },
    {
     "name": "stdout",
     "output_type": "stream",
     "text": [
      "Epoch 128: \n",
      "Val ADE: 29.112905502319336 \n",
      "Val FDE: 37.16865158081055\n"
     ]
    },
    {
     "name": "stderr",
     "output_type": "stream",
     "text": [
      "\r",
      "Epoch:  43%|████████████▏               | 130/300 [5:20:07<7:50:08, 165.93s/it]"
     ]
    },
    {
     "name": "stdout",
     "output_type": "stream",
     "text": [
      "Epoch 129: \n",
      "Val ADE: 28.25553321838379 \n",
      "Val FDE: 33.454959869384766\n"
     ]
    },
    {
     "name": "stderr",
     "output_type": "stream",
     "text": [
      "\r",
      "Epoch:  44%|████████████▏               | 131/300 [5:22:53<7:47:28, 165.97s/it]"
     ]
    },
    {
     "name": "stdout",
     "output_type": "stream",
     "text": [
      "Epoch 130: \n",
      "Val ADE: 27.411104202270508 \n",
      "Val FDE: 31.11591148376465\n"
     ]
    },
    {
     "name": "stderr",
     "output_type": "stream",
     "text": [
      "\r",
      "Epoch:  44%|████████████▎               | 132/300 [5:25:39<7:44:47, 166.00s/it]"
     ]
    },
    {
     "name": "stdout",
     "output_type": "stream",
     "text": [
      "Epoch 131: \n",
      "Val ADE: 28.879966735839844 \n",
      "Val FDE: 35.9921760559082\n"
     ]
    },
    {
     "name": "stderr",
     "output_type": "stream",
     "text": [
      "\r",
      "Epoch:  44%|████████████▍               | 133/300 [5:28:25<7:41:47, 165.91s/it]"
     ]
    },
    {
     "name": "stdout",
     "output_type": "stream",
     "text": [
      "Epoch 132: \n",
      "Val ADE: 27.552019119262695 \n",
      "Val FDE: 36.4819450378418\n"
     ]
    },
    {
     "name": "stderr",
     "output_type": "stream",
     "text": [
      "\r",
      "Epoch:  45%|████████████▌               | 134/300 [5:31:11<7:39:11, 165.98s/it]"
     ]
    },
    {
     "name": "stdout",
     "output_type": "stream",
     "text": [
      "Epoch 133: \n",
      "Val ADE: 25.3418025970459 \n",
      "Val FDE: 31.203397750854492\n"
     ]
    },
    {
     "name": "stderr",
     "output_type": "stream",
     "text": [
      "\r",
      "Epoch:  45%|████████████▌               | 135/300 [5:33:57<7:36:55, 166.15s/it]"
     ]
    },
    {
     "name": "stdout",
     "output_type": "stream",
     "text": [
      "Epoch 134: \n",
      "Val ADE: 27.32581901550293 \n",
      "Val FDE: 33.26606369018555\n"
     ]
    },
    {
     "name": "stderr",
     "output_type": "stream",
     "text": [
      "\r",
      "Epoch:  45%|████████████▋               | 136/300 [5:36:43<7:34:13, 166.18s/it]"
     ]
    },
    {
     "name": "stdout",
     "output_type": "stream",
     "text": [
      "Epoch 135: \n",
      "Val ADE: 33.24925994873047 \n",
      "Val FDE: 42.05857849121094\n"
     ]
    },
    {
     "name": "stderr",
     "output_type": "stream",
     "text": [
      "\r",
      "Epoch:  46%|████████████▊               | 137/300 [5:39:29<7:31:14, 166.10s/it]"
     ]
    },
    {
     "name": "stdout",
     "output_type": "stream",
     "text": [
      "Epoch 136: \n",
      "Val ADE: 34.22685241699219 \n",
      "Val FDE: 47.24055862426758\n"
     ]
    },
    {
     "name": "stderr",
     "output_type": "stream",
     "text": [
      "\r",
      "Epoch:  46%|████████████▉               | 138/300 [5:42:15<7:28:27, 166.09s/it]"
     ]
    },
    {
     "name": "stdout",
     "output_type": "stream",
     "text": [
      "Epoch 137: \n",
      "Val ADE: 27.134675979614258 \n",
      "Val FDE: 32.23611831665039\n"
     ]
    },
    {
     "name": "stderr",
     "output_type": "stream",
     "text": [
      "\r",
      "Epoch:  46%|████████████▉               | 139/300 [5:45:02<7:25:48, 166.14s/it]"
     ]
    },
    {
     "name": "stdout",
     "output_type": "stream",
     "text": [
      "Epoch 138: \n",
      "Val ADE: 32.04566955566406 \n",
      "Val FDE: 41.072540283203125\n"
     ]
    },
    {
     "name": "stderr",
     "output_type": "stream",
     "text": [
      "\r",
      "Epoch:  47%|█████████████               | 140/300 [5:47:48<7:23:10, 166.19s/it]"
     ]
    },
    {
     "name": "stdout",
     "output_type": "stream",
     "text": [
      "Epoch 139: \n",
      "Val ADE: 28.896211624145508 \n",
      "Val FDE: 40.25002670288086\n"
     ]
    },
    {
     "name": "stderr",
     "output_type": "stream",
     "text": [
      "\r",
      "Epoch:  47%|█████████████▏              | 141/300 [5:50:34<7:20:16, 166.14s/it]"
     ]
    },
    {
     "name": "stdout",
     "output_type": "stream",
     "text": [
      "Epoch 140: \n",
      "Val ADE: 27.471466064453125 \n",
      "Val FDE: 35.76028060913086\n"
     ]
    },
    {
     "name": "stderr",
     "output_type": "stream",
     "text": [
      "\r",
      "Epoch:  47%|█████████████▎              | 142/300 [5:53:20<7:17:27, 166.13s/it]"
     ]
    },
    {
     "name": "stdout",
     "output_type": "stream",
     "text": [
      "Epoch 141: \n",
      "Val ADE: 28.093454360961914 \n",
      "Val FDE: 37.685787200927734\n"
     ]
    },
    {
     "name": "stderr",
     "output_type": "stream",
     "text": [
      "\r",
      "Epoch:  48%|█████████████▎              | 143/300 [5:56:06<7:14:39, 166.11s/it]"
     ]
    },
    {
     "name": "stdout",
     "output_type": "stream",
     "text": [
      "Epoch 142: \n",
      "Val ADE: 28.591337203979492 \n",
      "Val FDE: 36.361968994140625\n"
     ]
    },
    {
     "name": "stderr",
     "output_type": "stream",
     "text": [
      "\r",
      "Epoch:  48%|█████████████▍              | 144/300 [5:58:52<7:11:59, 166.15s/it]"
     ]
    },
    {
     "name": "stdout",
     "output_type": "stream",
     "text": [
      "Epoch 143: \n",
      "Val ADE: 29.800907135009766 \n",
      "Val FDE: 42.157535552978516\n"
     ]
    },
    {
     "name": "stderr",
     "output_type": "stream",
     "text": [
      "\r",
      "Epoch:  48%|█████████████▌              | 145/300 [6:01:39<7:09:21, 166.20s/it]"
     ]
    },
    {
     "name": "stdout",
     "output_type": "stream",
     "text": [
      "Epoch 144: \n",
      "Val ADE: 28.429485321044922 \n",
      "Val FDE: 37.89733123779297\n"
     ]
    },
    {
     "name": "stderr",
     "output_type": "stream",
     "text": [
      "\r",
      "Epoch:  49%|█████████████▋              | 146/300 [6:04:25<7:06:40, 166.24s/it]"
     ]
    },
    {
     "name": "stdout",
     "output_type": "stream",
     "text": [
      "Epoch 145: \n",
      "Val ADE: 28.803014755249023 \n",
      "Val FDE: 33.3602409362793\n"
     ]
    },
    {
     "name": "stderr",
     "output_type": "stream",
     "text": [
      "\r",
      "Epoch:  49%|█████████████▋              | 147/300 [6:07:11<7:03:34, 166.11s/it]"
     ]
    },
    {
     "name": "stdout",
     "output_type": "stream",
     "text": [
      "Epoch 146: \n",
      "Val ADE: 27.862613677978516 \n",
      "Val FDE: 33.781009674072266\n"
     ]
    },
    {
     "name": "stderr",
     "output_type": "stream",
     "text": [
      "\r",
      "Epoch:  49%|█████████████▊              | 148/300 [6:09:56<7:00:20, 165.92s/it]"
     ]
    },
    {
     "name": "stdout",
     "output_type": "stream",
     "text": [
      "Epoch 147: \n",
      "Val ADE: 27.437400817871094 \n",
      "Val FDE: 34.137664794921875\n"
     ]
    },
    {
     "name": "stderr",
     "output_type": "stream",
     "text": [
      "\r",
      "Epoch:  50%|█████████████▉              | 149/300 [6:12:42<6:57:11, 165.77s/it]"
     ]
    },
    {
     "name": "stdout",
     "output_type": "stream",
     "text": [
      "Epoch 148: \n",
      "Val ADE: 26.639087677001953 \n",
      "Val FDE: 30.35350799560547\n"
     ]
    },
    {
     "name": "stderr",
     "output_type": "stream",
     "text": [
      "\r",
      "Epoch:  50%|██████████████              | 150/300 [6:15:28<6:54:24, 165.76s/it]"
     ]
    },
    {
     "name": "stdout",
     "output_type": "stream",
     "text": [
      "Epoch 149: \n",
      "Val ADE: 26.54311180114746 \n",
      "Val FDE: 32.97810745239258\n"
     ]
    },
    {
     "name": "stderr",
     "output_type": "stream",
     "text": [
      "\r",
      "Epoch:  50%|██████████████              | 151/300 [6:18:13<6:51:24, 165.67s/it]"
     ]
    },
    {
     "name": "stdout",
     "output_type": "stream",
     "text": [
      "Epoch 150: \n",
      "Val ADE: 28.075117111206055 \n",
      "Val FDE: 36.99419403076172\n"
     ]
    },
    {
     "name": "stderr",
     "output_type": "stream",
     "text": [
      "\r",
      "Epoch:  51%|██████████████▏             | 152/300 [6:20:59<6:48:43, 165.70s/it]"
     ]
    },
    {
     "name": "stdout",
     "output_type": "stream",
     "text": [
      "Epoch 151: \n",
      "Val ADE: 26.656064987182617 \n",
      "Val FDE: 30.37166404724121\n"
     ]
    },
    {
     "name": "stderr",
     "output_type": "stream",
     "text": [
      "\r",
      "Epoch:  51%|██████████████▎             | 153/300 [6:23:44<6:45:48, 165.63s/it]"
     ]
    },
    {
     "name": "stdout",
     "output_type": "stream",
     "text": [
      "Epoch 152: \n",
      "Val ADE: 26.59254264831543 \n",
      "Val FDE: 31.006471633911133\n"
     ]
    },
    {
     "name": "stderr",
     "output_type": "stream",
     "text": [
      "\r",
      "Epoch:  51%|██████████████▎             | 154/300 [6:26:31<6:43:44, 165.92s/it]"
     ]
    },
    {
     "name": "stdout",
     "output_type": "stream",
     "text": [
      "Epoch 153: \n",
      "Val ADE: 30.13128089904785 \n",
      "Val FDE: 34.638858795166016\n"
     ]
    },
    {
     "name": "stderr",
     "output_type": "stream",
     "text": [
      "\r",
      "Epoch:  52%|██████████████▍             | 155/300 [6:29:18<6:42:04, 166.37s/it]"
     ]
    },
    {
     "name": "stdout",
     "output_type": "stream",
     "text": [
      "Epoch 154: \n",
      "Val ADE: 25.431772232055664 \n",
      "Val FDE: 29.931610107421875\n"
     ]
    },
    {
     "name": "stderr",
     "output_type": "stream",
     "text": [
      "\r",
      "Epoch:  52%|██████████████▌             | 156/300 [6:32:04<6:38:40, 166.11s/it]"
     ]
    },
    {
     "name": "stdout",
     "output_type": "stream",
     "text": [
      "Epoch 155: \n",
      "Val ADE: 25.2946834564209 \n",
      "Val FDE: 27.395151138305664\n"
     ]
    },
    {
     "name": "stderr",
     "output_type": "stream",
     "text": [
      "\r",
      "Epoch:  52%|██████████████▋             | 157/300 [6:34:49<6:35:34, 165.98s/it]"
     ]
    },
    {
     "name": "stdout",
     "output_type": "stream",
     "text": [
      "Epoch 156: \n",
      "Val ADE: 26.455982208251953 \n",
      "Val FDE: 33.46433639526367\n"
     ]
    },
    {
     "name": "stderr",
     "output_type": "stream",
     "text": [
      "\r",
      "Epoch:  53%|██████████████▋             | 158/300 [6:37:35<6:32:33, 165.87s/it]"
     ]
    },
    {
     "name": "stdout",
     "output_type": "stream",
     "text": [
      "Epoch 157: \n",
      "Val ADE: 24.691478729248047 \n",
      "Val FDE: 29.334718704223633\n"
     ]
    },
    {
     "name": "stderr",
     "output_type": "stream",
     "text": [
      "\r",
      "Epoch:  53%|██████████████▊             | 159/300 [6:40:21<6:29:41, 165.82s/it]"
     ]
    },
    {
     "name": "stdout",
     "output_type": "stream",
     "text": [
      "Epoch 158: \n",
      "Val ADE: 25.297901153564453 \n",
      "Val FDE: 30.489906311035156\n"
     ]
    },
    {
     "name": "stderr",
     "output_type": "stream",
     "text": [
      "\r",
      "Epoch:  53%|██████████████▉             | 160/300 [6:43:06<6:26:41, 165.73s/it]"
     ]
    },
    {
     "name": "stdout",
     "output_type": "stream",
     "text": [
      "Epoch 159: \n",
      "Val ADE: 24.170974731445312 \n",
      "Val FDE: 26.043737411499023\n"
     ]
    },
    {
     "name": "stderr",
     "output_type": "stream",
     "text": [
      "\r",
      "Epoch:  54%|███████████████             | 161/300 [6:45:51<6:23:34, 165.57s/it]"
     ]
    },
    {
     "name": "stdout",
     "output_type": "stream",
     "text": [
      "Epoch 160: \n",
      "Val ADE: 24.594282150268555 \n",
      "Val FDE: 30.14769744873047\n"
     ]
    },
    {
     "name": "stderr",
     "output_type": "stream",
     "text": [
      "\r",
      "Epoch:  54%|███████████████             | 162/300 [6:48:37<6:20:42, 165.53s/it]"
     ]
    },
    {
     "name": "stdout",
     "output_type": "stream",
     "text": [
      "Epoch 161: \n",
      "Val ADE: 27.177688598632812 \n",
      "Val FDE: 30.370241165161133\n"
     ]
    },
    {
     "name": "stderr",
     "output_type": "stream",
     "text": [
      "\r",
      "Epoch:  54%|███████████████▏            | 163/300 [6:51:23<6:18:05, 165.59s/it]"
     ]
    },
    {
     "name": "stdout",
     "output_type": "stream",
     "text": [
      "Epoch 162: \n",
      "Val ADE: 25.943735122680664 \n",
      "Val FDE: 26.971376419067383\n"
     ]
    },
    {
     "name": "stderr",
     "output_type": "stream",
     "text": [
      "\r",
      "Epoch:  55%|███████████████▎            | 164/300 [6:54:09<6:15:43, 165.76s/it]"
     ]
    },
    {
     "name": "stdout",
     "output_type": "stream",
     "text": [
      "Epoch 163: \n",
      "Val ADE: 25.82573890686035 \n",
      "Val FDE: 31.016881942749023\n"
     ]
    },
    {
     "name": "stderr",
     "output_type": "stream",
     "text": [
      "\r",
      "Epoch:  55%|███████████████▍            | 165/300 [6:56:55<6:13:16, 165.90s/it]"
     ]
    },
    {
     "name": "stdout",
     "output_type": "stream",
     "text": [
      "Epoch 164: \n",
      "Val ADE: 24.86387825012207 \n",
      "Val FDE: 28.480693817138672\n"
     ]
    },
    {
     "name": "stderr",
     "output_type": "stream",
     "text": [
      "\r",
      "Epoch:  55%|███████████████▍            | 166/300 [6:59:41<6:10:23, 165.84s/it]"
     ]
    },
    {
     "name": "stdout",
     "output_type": "stream",
     "text": [
      "Epoch 165: \n",
      "Val ADE: 29.171422958374023 \n",
      "Val FDE: 41.7928466796875\n"
     ]
    },
    {
     "name": "stderr",
     "output_type": "stream",
     "text": [
      "\r",
      "Epoch:  56%|███████████████▌            | 167/300 [7:02:26<6:07:22, 165.73s/it]"
     ]
    },
    {
     "name": "stdout",
     "output_type": "stream",
     "text": [
      "Epoch 166: \n",
      "Val ADE: 26.779617309570312 \n",
      "Val FDE: 30.3554744720459\n"
     ]
    },
    {
     "name": "stderr",
     "output_type": "stream",
     "text": [
      "\r",
      "Epoch:  56%|███████████████▋            | 168/300 [7:05:12<6:04:45, 165.80s/it]"
     ]
    },
    {
     "name": "stdout",
     "output_type": "stream",
     "text": [
      "Epoch 167: \n",
      "Val ADE: 26.106754302978516 \n",
      "Val FDE: 32.265323638916016\n"
     ]
    },
    {
     "name": "stderr",
     "output_type": "stream",
     "text": [
      "\r",
      "Epoch:  56%|███████████████▊            | 169/300 [7:07:57<6:01:40, 165.66s/it]"
     ]
    },
    {
     "name": "stdout",
     "output_type": "stream",
     "text": [
      "Epoch 168: \n",
      "Val ADE: 27.02349281311035 \n",
      "Val FDE: 30.182514190673828\n"
     ]
    },
    {
     "name": "stderr",
     "output_type": "stream",
     "text": [
      "\r",
      "Epoch:  57%|███████████████▊            | 170/300 [7:10:43<5:58:59, 165.69s/it]"
     ]
    },
    {
     "name": "stdout",
     "output_type": "stream",
     "text": [
      "Epoch 169: \n",
      "Val ADE: 24.457550048828125 \n",
      "Val FDE: 28.47776985168457\n"
     ]
    },
    {
     "name": "stderr",
     "output_type": "stream",
     "text": [
      "\r",
      "Epoch:  57%|███████████████▉            | 171/300 [7:13:29<5:56:08, 165.65s/it]"
     ]
    },
    {
     "name": "stdout",
     "output_type": "stream",
     "text": [
      "Epoch 170: \n",
      "Val ADE: 27.101837158203125 \n",
      "Val FDE: 29.97015953063965\n"
     ]
    },
    {
     "name": "stderr",
     "output_type": "stream",
     "text": [
      "\r",
      "Epoch:  57%|████████████████            | 172/300 [7:16:14<5:53:22, 165.65s/it]"
     ]
    },
    {
     "name": "stdout",
     "output_type": "stream",
     "text": [
      "Epoch 171: \n",
      "Val ADE: 25.964277267456055 \n",
      "Val FDE: 28.63568878173828\n"
     ]
    },
    {
     "name": "stderr",
     "output_type": "stream",
     "text": [
      "\r",
      "Epoch:  58%|████████████████▏           | 173/300 [7:19:00<5:50:35, 165.63s/it]"
     ]
    },
    {
     "name": "stdout",
     "output_type": "stream",
     "text": [
      "Epoch 172: \n",
      "Val ADE: 27.833641052246094 \n",
      "Val FDE: 31.788537979125977\n"
     ]
    },
    {
     "name": "stderr",
     "output_type": "stream",
     "text": [
      "\r",
      "Epoch:  58%|████████████████▏           | 174/300 [7:21:46<5:48:05, 165.76s/it]"
     ]
    },
    {
     "name": "stdout",
     "output_type": "stream",
     "text": [
      "Epoch 173: \n",
      "Val ADE: 26.000808715820312 \n",
      "Val FDE: 31.945903778076172\n"
     ]
    },
    {
     "name": "stderr",
     "output_type": "stream",
     "text": [
      "\r",
      "Epoch:  58%|████████████████▎           | 175/300 [7:24:32<5:45:11, 165.69s/it]"
     ]
    },
    {
     "name": "stdout",
     "output_type": "stream",
     "text": [
      "Epoch 174: \n",
      "Val ADE: 25.40608787536621 \n",
      "Val FDE: 27.43024253845215\n"
     ]
    },
    {
     "name": "stderr",
     "output_type": "stream",
     "text": [
      "\r",
      "Epoch:  59%|████████████████▍           | 176/300 [7:27:17<5:42:31, 165.74s/it]"
     ]
    },
    {
     "name": "stdout",
     "output_type": "stream",
     "text": [
      "Epoch 175: \n",
      "Val ADE: 26.777141571044922 \n",
      "Val FDE: 33.12057113647461\n"
     ]
    },
    {
     "name": "stderr",
     "output_type": "stream",
     "text": [
      "\r",
      "Epoch:  59%|████████████████▌           | 177/300 [7:30:03<5:39:39, 165.69s/it]"
     ]
    },
    {
     "name": "stdout",
     "output_type": "stream",
     "text": [
      "Epoch 176: \n",
      "Val ADE: 27.844738006591797 \n",
      "Val FDE: 33.85085678100586\n"
     ]
    },
    {
     "name": "stderr",
     "output_type": "stream",
     "text": [
      "\r",
      "Epoch:  59%|████████████████▌           | 178/300 [7:32:49<5:36:46, 165.63s/it]"
     ]
    },
    {
     "name": "stdout",
     "output_type": "stream",
     "text": [
      "Epoch 177: \n",
      "Val ADE: 27.43794059753418 \n",
      "Val FDE: 35.999229431152344\n"
     ]
    },
    {
     "name": "stderr",
     "output_type": "stream",
     "text": [
      "\r",
      "Epoch:  60%|████████████████▋           | 179/300 [7:35:34<5:33:50, 165.54s/it]"
     ]
    },
    {
     "name": "stdout",
     "output_type": "stream",
     "text": [
      "Epoch 178: \n",
      "Val ADE: 28.741878509521484 \n",
      "Val FDE: 37.63865280151367\n"
     ]
    },
    {
     "name": "stderr",
     "output_type": "stream",
     "text": [
      "\r",
      "Epoch:  60%|████████████████▊           | 180/300 [7:38:19<5:31:04, 165.54s/it]"
     ]
    },
    {
     "name": "stdout",
     "output_type": "stream",
     "text": [
      "Epoch 179: \n",
      "Val ADE: 31.013296127319336 \n",
      "Val FDE: 38.802734375\n"
     ]
    },
    {
     "name": "stderr",
     "output_type": "stream",
     "text": [
      "\r",
      "Epoch:  60%|████████████████▉           | 181/300 [7:41:05<5:28:15, 165.51s/it]"
     ]
    },
    {
     "name": "stdout",
     "output_type": "stream",
     "text": [
      "Epoch 180: \n",
      "Val ADE: 31.588699340820312 \n",
      "Val FDE: 41.459075927734375\n"
     ]
    },
    {
     "name": "stderr",
     "output_type": "stream",
     "text": [
      "\r",
      "Epoch:  61%|████████████████▉           | 182/300 [7:43:51<5:25:43, 165.62s/it]"
     ]
    },
    {
     "name": "stdout",
     "output_type": "stream",
     "text": [
      "Epoch 181: \n",
      "Val ADE: 28.75033950805664 \n",
      "Val FDE: 37.03020477294922\n"
     ]
    },
    {
     "name": "stderr",
     "output_type": "stream",
     "text": [
      "\r",
      "Epoch:  61%|█████████████████           | 183/300 [7:46:37<5:23:19, 165.81s/it]"
     ]
    },
    {
     "name": "stdout",
     "output_type": "stream",
     "text": [
      "Epoch 182: \n",
      "Val ADE: 26.996410369873047 \n",
      "Val FDE: 33.89817810058594\n"
     ]
    },
    {
     "name": "stderr",
     "output_type": "stream",
     "text": [
      "\r",
      "Epoch:  61%|█████████████████▏          | 184/300 [7:49:23<5:20:30, 165.78s/it]"
     ]
    },
    {
     "name": "stdout",
     "output_type": "stream",
     "text": [
      "Epoch 183: \n",
      "Val ADE: 30.163341522216797 \n",
      "Val FDE: 37.17095947265625\n"
     ]
    },
    {
     "name": "stderr",
     "output_type": "stream",
     "text": [
      "\r",
      "Epoch:  62%|█████████████████▎          | 185/300 [7:52:08<5:17:42, 165.76s/it]"
     ]
    },
    {
     "name": "stdout",
     "output_type": "stream",
     "text": [
      "Epoch 184: \n",
      "Val ADE: 28.33609390258789 \n",
      "Val FDE: 38.807132720947266\n"
     ]
    },
    {
     "name": "stderr",
     "output_type": "stream",
     "text": [
      "\r",
      "Epoch:  62%|█████████████████▎          | 186/300 [7:54:55<5:15:12, 165.90s/it]"
     ]
    },
    {
     "name": "stdout",
     "output_type": "stream",
     "text": [
      "Epoch 185: \n",
      "Val ADE: 26.014310836791992 \n",
      "Val FDE: 31.472288131713867\n"
     ]
    },
    {
     "name": "stderr",
     "output_type": "stream",
     "text": [
      "\r",
      "Epoch:  62%|█████████████████▍          | 187/300 [7:57:40<5:12:19, 165.84s/it]"
     ]
    },
    {
     "name": "stdout",
     "output_type": "stream",
     "text": [
      "Epoch 186: \n",
      "Val ADE: 26.678895950317383 \n",
      "Val FDE: 35.01658248901367\n"
     ]
    },
    {
     "name": "stderr",
     "output_type": "stream",
     "text": [
      "\r",
      "Epoch:  63%|█████████████████▌          | 188/300 [8:00:26<5:09:14, 165.67s/it]"
     ]
    },
    {
     "name": "stdout",
     "output_type": "stream",
     "text": [
      "Epoch 187: \n",
      "Val ADE: 30.109100341796875 \n",
      "Val FDE: 36.67002487182617\n"
     ]
    },
    {
     "name": "stderr",
     "output_type": "stream",
     "text": [
      "\r",
      "Epoch:  63%|█████████████████▋          | 189/300 [8:03:11<5:06:17, 165.56s/it]"
     ]
    },
    {
     "name": "stdout",
     "output_type": "stream",
     "text": [
      "Epoch 188: \n",
      "Val ADE: 27.128047943115234 \n",
      "Val FDE: 34.36197280883789\n"
     ]
    },
    {
     "name": "stderr",
     "output_type": "stream",
     "text": [
      "\r",
      "Epoch:  63%|█████████████████▋          | 190/300 [8:05:57<5:03:33, 165.58s/it]"
     ]
    },
    {
     "name": "stdout",
     "output_type": "stream",
     "text": [
      "Epoch 189: \n",
      "Val ADE: 28.387128829956055 \n",
      "Val FDE: 37.6788444519043\n"
     ]
    },
    {
     "name": "stderr",
     "output_type": "stream",
     "text": [
      "\r",
      "Epoch:  64%|█████████████████▊          | 191/300 [8:08:42<5:00:51, 165.61s/it]"
     ]
    },
    {
     "name": "stdout",
     "output_type": "stream",
     "text": [
      "Epoch 190: \n",
      "Val ADE: 28.366897583007812 \n",
      "Val FDE: 33.855037689208984\n"
     ]
    },
    {
     "name": "stderr",
     "output_type": "stream",
     "text": [
      "\r",
      "Epoch:  64%|█████████████████▉          | 192/300 [8:11:28<4:57:58, 165.54s/it]"
     ]
    },
    {
     "name": "stdout",
     "output_type": "stream",
     "text": [
      "Epoch 191: \n",
      "Val ADE: 29.143672943115234 \n",
      "Val FDE: 35.81396484375\n"
     ]
    },
    {
     "name": "stderr",
     "output_type": "stream",
     "text": [
      "\r",
      "Epoch:  64%|██████████████████          | 193/300 [8:14:13<4:55:22, 165.63s/it]"
     ]
    },
    {
     "name": "stdout",
     "output_type": "stream",
     "text": [
      "Epoch 192: \n",
      "Val ADE: 28.997655868530273 \n",
      "Val FDE: 41.607601165771484\n"
     ]
    },
    {
     "name": "stderr",
     "output_type": "stream",
     "text": [
      "\r",
      "Epoch:  65%|██████████████████          | 194/300 [8:16:59<4:52:24, 165.51s/it]"
     ]
    },
    {
     "name": "stdout",
     "output_type": "stream",
     "text": [
      "Epoch 193: \n",
      "Val ADE: 27.82114028930664 \n",
      "Val FDE: 34.91365432739258\n"
     ]
    },
    {
     "name": "stderr",
     "output_type": "stream",
     "text": [
      "\r",
      "Epoch:  65%|██████████████████▏         | 195/300 [8:19:44<4:49:34, 165.47s/it]"
     ]
    },
    {
     "name": "stdout",
     "output_type": "stream",
     "text": [
      "Epoch 194: \n",
      "Val ADE: 29.12489128112793 \n",
      "Val FDE: 37.650177001953125\n"
     ]
    },
    {
     "name": "stderr",
     "output_type": "stream",
     "text": [
      "\r",
      "Epoch:  65%|██████████████████▎         | 196/300 [8:22:30<4:47:08, 165.66s/it]"
     ]
    },
    {
     "name": "stdout",
     "output_type": "stream",
     "text": [
      "Epoch 195: \n",
      "Val ADE: 25.826435089111328 \n",
      "Val FDE: 32.143707275390625\n"
     ]
    },
    {
     "name": "stderr",
     "output_type": "stream",
     "text": [
      "\r",
      "Epoch:  66%|██████████████████▍         | 197/300 [8:25:16<4:44:16, 165.59s/it]"
     ]
    },
    {
     "name": "stdout",
     "output_type": "stream",
     "text": [
      "Epoch 196: \n",
      "Val ADE: 27.28990364074707 \n",
      "Val FDE: 39.008487701416016\n"
     ]
    },
    {
     "name": "stderr",
     "output_type": "stream",
     "text": [
      "\r",
      "Epoch:  66%|██████████████████▍         | 198/300 [8:28:01<4:41:35, 165.64s/it]"
     ]
    },
    {
     "name": "stdout",
     "output_type": "stream",
     "text": [
      "Epoch 197: \n",
      "Val ADE: 24.434398651123047 \n",
      "Val FDE: 30.83934783935547\n"
     ]
    },
    {
     "name": "stderr",
     "output_type": "stream",
     "text": [
      "\r",
      "Epoch:  66%|██████████████████▌         | 199/300 [8:30:46<4:38:32, 165.47s/it]"
     ]
    },
    {
     "name": "stdout",
     "output_type": "stream",
     "text": [
      "Epoch 198: \n",
      "Val ADE: 29.55799674987793 \n",
      "Val FDE: 42.09324645996094\n"
     ]
    },
    {
     "name": "stderr",
     "output_type": "stream",
     "text": [
      "\r",
      "Epoch:  67%|██████████████████▋         | 200/300 [8:33:32<4:35:54, 165.54s/it]"
     ]
    },
    {
     "name": "stdout",
     "output_type": "stream",
     "text": [
      "Epoch 199: \n",
      "Val ADE: 30.02660369873047 \n",
      "Val FDE: 41.271446228027344\n"
     ]
    },
    {
     "name": "stderr",
     "output_type": "stream",
     "text": [
      "\r",
      "Epoch:  67%|██████████████████▊         | 201/300 [8:36:18<4:33:12, 165.58s/it]"
     ]
    },
    {
     "name": "stdout",
     "output_type": "stream",
     "text": [
      "Epoch 200: \n",
      "Val ADE: 24.19365119934082 \n",
      "Val FDE: 29.132896423339844\n"
     ]
    },
    {
     "name": "stderr",
     "output_type": "stream",
     "text": [
      "\r",
      "Epoch:  67%|██████████████████▊         | 202/300 [8:39:03<4:30:23, 165.55s/it]"
     ]
    },
    {
     "name": "stdout",
     "output_type": "stream",
     "text": [
      "Epoch 201: \n",
      "Val ADE: 25.686796188354492 \n",
      "Val FDE: 32.39588165283203\n"
     ]
    },
    {
     "name": "stderr",
     "output_type": "stream",
     "text": [
      "\r",
      "Epoch:  68%|██████████████████▉         | 203/300 [8:41:49<4:27:40, 165.57s/it]"
     ]
    },
    {
     "name": "stdout",
     "output_type": "stream",
     "text": [
      "Epoch 202: \n",
      "Val ADE: 26.052980422973633 \n",
      "Val FDE: 33.288883209228516\n"
     ]
    },
    {
     "name": "stderr",
     "output_type": "stream",
     "text": [
      "\r",
      "Epoch:  68%|███████████████████         | 204/300 [8:44:34<4:24:55, 165.57s/it]"
     ]
    },
    {
     "name": "stdout",
     "output_type": "stream",
     "text": [
      "Epoch 203: \n",
      "Val ADE: 26.280471801757812 \n",
      "Val FDE: 30.158287048339844\n"
     ]
    },
    {
     "name": "stderr",
     "output_type": "stream",
     "text": [
      "\r",
      "Epoch:  68%|███████████████████▏        | 205/300 [8:47:20<4:22:09, 165.58s/it]"
     ]
    },
    {
     "name": "stdout",
     "output_type": "stream",
     "text": [
      "Epoch 204: \n",
      "Val ADE: 25.94007110595703 \n",
      "Val FDE: 32.545230865478516\n"
     ]
    },
    {
     "name": "stderr",
     "output_type": "stream",
     "text": [
      "\r",
      "Epoch:  69%|███████████████████▏        | 206/300 [8:50:05<4:19:15, 165.49s/it]"
     ]
    },
    {
     "name": "stdout",
     "output_type": "stream",
     "text": [
      "Epoch 205: \n",
      "Val ADE: 28.710092544555664 \n",
      "Val FDE: 40.63063430786133\n"
     ]
    },
    {
     "name": "stderr",
     "output_type": "stream",
     "text": [
      "\r",
      "Epoch:  69%|███████████████████▎        | 207/300 [8:52:51<4:16:27, 165.46s/it]"
     ]
    },
    {
     "name": "stdout",
     "output_type": "stream",
     "text": [
      "Epoch 206: \n",
      "Val ADE: 25.102436065673828 \n",
      "Val FDE: 33.69759750366211\n"
     ]
    },
    {
     "name": "stderr",
     "output_type": "stream",
     "text": [
      "\r",
      "Epoch:  69%|███████████████████▍        | 208/300 [8:55:36<4:13:40, 165.44s/it]"
     ]
    },
    {
     "name": "stdout",
     "output_type": "stream",
     "text": [
      "Epoch 207: \n",
      "Val ADE: 27.723777770996094 \n",
      "Val FDE: 34.968414306640625\n"
     ]
    },
    {
     "name": "stderr",
     "output_type": "stream",
     "text": [
      "\r",
      "Epoch:  70%|███████████████████▌        | 209/300 [8:58:22<4:10:55, 165.44s/it]"
     ]
    },
    {
     "name": "stdout",
     "output_type": "stream",
     "text": [
      "Epoch 208: \n",
      "Val ADE: 30.06856918334961 \n",
      "Val FDE: 38.67021942138672\n"
     ]
    },
    {
     "name": "stderr",
     "output_type": "stream",
     "text": [
      "\r",
      "Epoch:  70%|███████████████████▌        | 210/300 [9:01:07<4:08:05, 165.39s/it]"
     ]
    },
    {
     "name": "stdout",
     "output_type": "stream",
     "text": [
      "Epoch 209: \n",
      "Val ADE: 23.32672691345215 \n",
      "Val FDE: 28.51578140258789\n"
     ]
    },
    {
     "name": "stderr",
     "output_type": "stream",
     "text": [
      "\r",
      "Epoch:  70%|███████████████████▋        | 211/300 [9:03:52<4:05:14, 165.33s/it]"
     ]
    },
    {
     "name": "stdout",
     "output_type": "stream",
     "text": [
      "Epoch 210: \n",
      "Val ADE: 24.91836929321289 \n",
      "Val FDE: 29.705446243286133\n"
     ]
    },
    {
     "name": "stderr",
     "output_type": "stream",
     "text": [
      "\r",
      "Epoch:  71%|███████████████████▊        | 212/300 [9:06:37<4:02:25, 165.28s/it]"
     ]
    },
    {
     "name": "stdout",
     "output_type": "stream",
     "text": [
      "Epoch 211: \n",
      "Val ADE: 26.304302215576172 \n",
      "Val FDE: 32.24622344970703\n"
     ]
    },
    {
     "name": "stderr",
     "output_type": "stream",
     "text": [
      "\r",
      "Epoch:  71%|███████████████████▉        | 213/300 [9:09:23<3:59:42, 165.32s/it]"
     ]
    },
    {
     "name": "stdout",
     "output_type": "stream",
     "text": [
      "Epoch 212: \n",
      "Val ADE: 28.236892700195312 \n",
      "Val FDE: 36.17433166503906\n"
     ]
    },
    {
     "name": "stderr",
     "output_type": "stream",
     "text": [
      "\r",
      "Epoch:  71%|███████████████████▉        | 214/300 [9:12:08<3:56:59, 165.35s/it]"
     ]
    },
    {
     "name": "stdout",
     "output_type": "stream",
     "text": [
      "Epoch 213: \n",
      "Val ADE: 27.666975021362305 \n",
      "Val FDE: 32.59654235839844\n"
     ]
    },
    {
     "name": "stderr",
     "output_type": "stream",
     "text": [
      "\r",
      "Epoch:  72%|████████████████████        | 215/300 [9:14:53<3:54:07, 165.26s/it]"
     ]
    },
    {
     "name": "stdout",
     "output_type": "stream",
     "text": [
      "Epoch 214: \n",
      "Val ADE: 28.390155792236328 \n",
      "Val FDE: 35.759239196777344\n"
     ]
    },
    {
     "name": "stderr",
     "output_type": "stream",
     "text": [
      "\r",
      "Epoch:  72%|████████████████████▏       | 216/300 [9:17:39<3:51:28, 165.34s/it]"
     ]
    },
    {
     "name": "stdout",
     "output_type": "stream",
     "text": [
      "Epoch 215: \n",
      "Val ADE: 28.938386917114258 \n",
      "Val FDE: 35.97857666015625\n"
     ]
    },
    {
     "name": "stderr",
     "output_type": "stream",
     "text": [
      "\r",
      "Epoch:  72%|████████████████████▎       | 217/300 [9:20:24<3:48:46, 165.38s/it]"
     ]
    },
    {
     "name": "stdout",
     "output_type": "stream",
     "text": [
      "Epoch 216: \n",
      "Val ADE: 26.90865707397461 \n",
      "Val FDE: 32.233333587646484\n"
     ]
    },
    {
     "name": "stderr",
     "output_type": "stream",
     "text": [
      "\r",
      "Epoch:  73%|████████████████████▎       | 218/300 [9:23:10<3:46:05, 165.43s/it]"
     ]
    },
    {
     "name": "stdout",
     "output_type": "stream",
     "text": [
      "Epoch 217: \n",
      "Val ADE: 28.363000869750977 \n",
      "Val FDE: 34.66061782836914\n"
     ]
    },
    {
     "name": "stderr",
     "output_type": "stream",
     "text": [
      "\r",
      "Epoch:  73%|████████████████████▍       | 219/300 [9:25:55<3:43:10, 165.32s/it]"
     ]
    },
    {
     "name": "stdout",
     "output_type": "stream",
     "text": [
      "Epoch 218: \n",
      "Val ADE: 26.801929473876953 \n",
      "Val FDE: 33.82136917114258\n"
     ]
    },
    {
     "name": "stderr",
     "output_type": "stream",
     "text": [
      "\r",
      "Epoch:  73%|████████████████████▌       | 220/300 [9:28:40<3:40:32, 165.41s/it]"
     ]
    },
    {
     "name": "stdout",
     "output_type": "stream",
     "text": [
      "Epoch 219: \n",
      "Val ADE: 27.497838973999023 \n",
      "Val FDE: 34.74116134643555\n"
     ]
    },
    {
     "name": "stderr",
     "output_type": "stream",
     "text": [
      "\r",
      "Epoch:  74%|████████████████████▋       | 221/300 [9:31:27<3:38:07, 165.66s/it]"
     ]
    },
    {
     "name": "stdout",
     "output_type": "stream",
     "text": [
      "Epoch 220: \n",
      "Val ADE: 27.6171875 \n",
      "Val FDE: 32.83740234375\n"
     ]
    },
    {
     "name": "stderr",
     "output_type": "stream",
     "text": [
      "\r",
      "Epoch:  74%|████████████████████▋       | 222/300 [9:34:12<3:35:23, 165.69s/it]"
     ]
    },
    {
     "name": "stdout",
     "output_type": "stream",
     "text": [
      "Epoch 221: \n",
      "Val ADE: 29.612884521484375 \n",
      "Val FDE: 39.7670783996582\n"
     ]
    },
    {
     "name": "stderr",
     "output_type": "stream",
     "text": [
      "\r",
      "Epoch:  74%|████████████████████▊       | 223/300 [9:36:58<3:32:27, 165.55s/it]"
     ]
    },
    {
     "name": "stdout",
     "output_type": "stream",
     "text": [
      "Epoch 222: \n",
      "Val ADE: 25.526460647583008 \n",
      "Val FDE: 30.557170867919922\n"
     ]
    },
    {
     "name": "stderr",
     "output_type": "stream",
     "text": [
      "\r",
      "Epoch:  75%|████████████████████▉       | 224/300 [9:39:43<3:29:34, 165.46s/it]"
     ]
    },
    {
     "name": "stdout",
     "output_type": "stream",
     "text": [
      "Epoch 223: \n",
      "Val ADE: 25.406475067138672 \n",
      "Val FDE: 32.4184684753418\n"
     ]
    },
    {
     "name": "stderr",
     "output_type": "stream",
     "text": [
      "\r",
      "Epoch:  75%|█████████████████████       | 225/300 [9:42:28<3:26:36, 165.29s/it]"
     ]
    },
    {
     "name": "stdout",
     "output_type": "stream",
     "text": [
      "Epoch 224: \n",
      "Val ADE: 25.757349014282227 \n",
      "Val FDE: 37.581790924072266\n"
     ]
    },
    {
     "name": "stderr",
     "output_type": "stream",
     "text": [
      "\r",
      "Epoch:  75%|█████████████████████       | 226/300 [9:45:13<3:23:57, 165.37s/it]"
     ]
    },
    {
     "name": "stdout",
     "output_type": "stream",
     "text": [
      "Epoch 225: \n",
      "Val ADE: 25.715707778930664 \n",
      "Val FDE: 30.672948837280273\n"
     ]
    },
    {
     "name": "stderr",
     "output_type": "stream",
     "text": [
      "\r",
      "Epoch:  76%|█████████████████████▏      | 227/300 [9:47:59<3:21:11, 165.36s/it]"
     ]
    },
    {
     "name": "stdout",
     "output_type": "stream",
     "text": [
      "Epoch 226: \n",
      "Val ADE: 26.705673217773438 \n",
      "Val FDE: 34.445831298828125\n"
     ]
    },
    {
     "name": "stderr",
     "output_type": "stream",
     "text": [
      "\r",
      "Epoch:  76%|█████████████████████▎      | 228/300 [9:50:44<3:18:27, 165.38s/it]"
     ]
    },
    {
     "name": "stdout",
     "output_type": "stream",
     "text": [
      "Epoch 227: \n",
      "Val ADE: 25.874500274658203 \n",
      "Val FDE: 30.175090789794922\n"
     ]
    },
    {
     "name": "stderr",
     "output_type": "stream",
     "text": [
      "\r",
      "Epoch:  76%|█████████████████████▎      | 229/300 [9:53:29<3:15:39, 165.34s/it]"
     ]
    },
    {
     "name": "stdout",
     "output_type": "stream",
     "text": [
      "Epoch 228: \n",
      "Val ADE: 26.37691307067871 \n",
      "Val FDE: 30.18216323852539\n"
     ]
    },
    {
     "name": "stderr",
     "output_type": "stream",
     "text": [
      "\r",
      "Epoch:  77%|█████████████████████▍      | 230/300 [9:56:15<3:13:00, 165.43s/it]"
     ]
    },
    {
     "name": "stdout",
     "output_type": "stream",
     "text": [
      "Epoch 229: \n",
      "Val ADE: 28.246723175048828 \n",
      "Val FDE: 36.75589370727539\n"
     ]
    },
    {
     "name": "stderr",
     "output_type": "stream",
     "text": [
      "\r",
      "Epoch:  77%|█████████████████████▌      | 231/300 [9:59:01<3:10:24, 165.57s/it]"
     ]
    },
    {
     "name": "stdout",
     "output_type": "stream",
     "text": [
      "Epoch 230: \n",
      "Val ADE: 26.595613479614258 \n",
      "Val FDE: 33.74555587768555\n"
     ]
    },
    {
     "name": "stderr",
     "output_type": "stream",
     "text": [
      "\r",
      "Epoch:  77%|████████████████████▉      | 232/300 [10:01:47<3:07:43, 165.64s/it]"
     ]
    },
    {
     "name": "stdout",
     "output_type": "stream",
     "text": [
      "Epoch 231: \n",
      "Val ADE: 27.54413414001465 \n",
      "Val FDE: 34.27669906616211\n"
     ]
    },
    {
     "name": "stderr",
     "output_type": "stream",
     "text": [
      "\r",
      "Epoch:  78%|████████████████████▉      | 233/300 [10:04:32<3:04:50, 165.53s/it]"
     ]
    },
    {
     "name": "stdout",
     "output_type": "stream",
     "text": [
      "Epoch 232: \n",
      "Val ADE: 26.76106834411621 \n",
      "Val FDE: 34.3480339050293\n"
     ]
    },
    {
     "name": "stderr",
     "output_type": "stream",
     "text": [
      "\r",
      "Epoch:  78%|█████████████████████      | 234/300 [10:07:17<3:02:02, 165.50s/it]"
     ]
    },
    {
     "name": "stdout",
     "output_type": "stream",
     "text": [
      "Epoch 233: \n",
      "Val ADE: 27.70316505432129 \n",
      "Val FDE: 30.440738677978516\n"
     ]
    },
    {
     "name": "stderr",
     "output_type": "stream",
     "text": [
      "\r",
      "Epoch:  78%|█████████████████████▏     | 235/300 [10:10:03<2:59:17, 165.50s/it]"
     ]
    },
    {
     "name": "stdout",
     "output_type": "stream",
     "text": [
      "Epoch 234: \n",
      "Val ADE: 27.015939712524414 \n",
      "Val FDE: 35.945804595947266\n"
     ]
    },
    {
     "name": "stderr",
     "output_type": "stream",
     "text": [
      "\r",
      "Epoch:  79%|█████████████████████▏     | 236/300 [10:12:48<2:56:32, 165.51s/it]"
     ]
    },
    {
     "name": "stdout",
     "output_type": "stream",
     "text": [
      "Epoch 235: \n",
      "Val ADE: 26.207490921020508 \n",
      "Val FDE: 31.328840255737305\n"
     ]
    },
    {
     "name": "stderr",
     "output_type": "stream",
     "text": [
      "\r",
      "Epoch:  79%|█████████████████████▎     | 237/300 [10:15:34<2:53:50, 165.56s/it]"
     ]
    },
    {
     "name": "stdout",
     "output_type": "stream",
     "text": [
      "Epoch 236: \n",
      "Val ADE: 28.84918785095215 \n",
      "Val FDE: 37.9747314453125\n"
     ]
    },
    {
     "name": "stderr",
     "output_type": "stream",
     "text": [
      "\r",
      "Epoch:  79%|█████████████████████▍     | 238/300 [10:18:19<2:51:03, 165.54s/it]"
     ]
    },
    {
     "name": "stdout",
     "output_type": "stream",
     "text": [
      "Epoch 237: \n",
      "Val ADE: 28.610279083251953 \n",
      "Val FDE: 32.42196273803711\n"
     ]
    },
    {
     "name": "stderr",
     "output_type": "stream",
     "text": [
      "\r",
      "Epoch:  80%|█████████████████████▌     | 239/300 [10:21:05<2:48:24, 165.65s/it]"
     ]
    },
    {
     "name": "stdout",
     "output_type": "stream",
     "text": [
      "Epoch 238: \n",
      "Val ADE: 27.381301879882812 \n",
      "Val FDE: 30.749513626098633\n"
     ]
    },
    {
     "name": "stderr",
     "output_type": "stream",
     "text": [
      "\r",
      "Epoch:  80%|█████████████████████▌     | 240/300 [10:23:52<2:45:48, 165.80s/it]"
     ]
    },
    {
     "name": "stdout",
     "output_type": "stream",
     "text": [
      "Epoch 239: \n",
      "Val ADE: 26.65230941772461 \n",
      "Val FDE: 32.480567932128906\n"
     ]
    },
    {
     "name": "stderr",
     "output_type": "stream",
     "text": [
      "\r",
      "Epoch:  80%|█████████████████████▋     | 241/300 [10:26:38<2:43:05, 165.86s/it]"
     ]
    },
    {
     "name": "stdout",
     "output_type": "stream",
     "text": [
      "Epoch 240: \n",
      "Val ADE: 28.407255172729492 \n",
      "Val FDE: 35.38993453979492\n"
     ]
    },
    {
     "name": "stderr",
     "output_type": "stream",
     "text": [
      "\r",
      "Epoch:  81%|█████████████████████▊     | 242/300 [10:29:23<2:40:10, 165.69s/it]"
     ]
    },
    {
     "name": "stdout",
     "output_type": "stream",
     "text": [
      "Epoch 241: \n",
      "Val ADE: 26.52727699279785 \n",
      "Val FDE: 32.930328369140625\n"
     ]
    },
    {
     "name": "stderr",
     "output_type": "stream",
     "text": [
      "\r",
      "Epoch:  81%|█████████████████████▊     | 243/300 [10:32:08<2:37:16, 165.56s/it]"
     ]
    },
    {
     "name": "stdout",
     "output_type": "stream",
     "text": [
      "Epoch 242: \n",
      "Val ADE: 28.687471389770508 \n",
      "Val FDE: 35.92629623413086\n"
     ]
    },
    {
     "name": "stderr",
     "output_type": "stream",
     "text": [
      "\r",
      "Epoch:  81%|█████████████████████▉     | 244/300 [10:34:54<2:34:30, 165.54s/it]"
     ]
    },
    {
     "name": "stdout",
     "output_type": "stream",
     "text": [
      "Epoch 243: \n",
      "Val ADE: 26.34223175048828 \n",
      "Val FDE: 36.3438606262207\n"
     ]
    },
    {
     "name": "stderr",
     "output_type": "stream",
     "text": [
      "\r",
      "Epoch:  82%|██████████████████████     | 245/300 [10:37:39<2:31:44, 165.54s/it]"
     ]
    },
    {
     "name": "stdout",
     "output_type": "stream",
     "text": [
      "Epoch 244: \n",
      "Val ADE: 28.76813316345215 \n",
      "Val FDE: 38.00667190551758\n"
     ]
    },
    {
     "name": "stderr",
     "output_type": "stream",
     "text": [
      "\r",
      "Epoch:  82%|██████████████████████▏    | 246/300 [10:40:25<2:28:58, 165.52s/it]"
     ]
    },
    {
     "name": "stdout",
     "output_type": "stream",
     "text": [
      "Epoch 245: \n",
      "Val ADE: 28.61500358581543 \n",
      "Val FDE: 36.57710266113281\n"
     ]
    },
    {
     "name": "stderr",
     "output_type": "stream",
     "text": [
      "\r",
      "Epoch:  82%|██████████████████████▏    | 247/300 [10:43:10<2:26:05, 165.39s/it]"
     ]
    },
    {
     "name": "stdout",
     "output_type": "stream",
     "text": [
      "Epoch 246: \n",
      "Val ADE: 27.07398796081543 \n",
      "Val FDE: 36.08750915527344\n"
     ]
    },
    {
     "name": "stderr",
     "output_type": "stream",
     "text": [
      "\r",
      "Epoch:  83%|██████████████████████▎    | 248/300 [10:45:55<2:23:22, 165.44s/it]"
     ]
    },
    {
     "name": "stdout",
     "output_type": "stream",
     "text": [
      "Epoch 247: \n",
      "Val ADE: 29.181270599365234 \n",
      "Val FDE: 38.49369812011719\n"
     ]
    },
    {
     "name": "stderr",
     "output_type": "stream",
     "text": [
      "\r",
      "Epoch:  83%|██████████████████████▍    | 249/300 [10:48:41<2:20:38, 165.47s/it]"
     ]
    },
    {
     "name": "stdout",
     "output_type": "stream",
     "text": [
      "Epoch 248: \n",
      "Val ADE: 28.15366554260254 \n",
      "Val FDE: 37.31515884399414\n"
     ]
    },
    {
     "name": "stderr",
     "output_type": "stream",
     "text": [
      "\r",
      "Epoch:  83%|██████████████████████▌    | 250/300 [10:51:27<2:18:00, 165.60s/it]"
     ]
    },
    {
     "name": "stdout",
     "output_type": "stream",
     "text": [
      "Epoch 249: \n",
      "Val ADE: 27.61631202697754 \n",
      "Val FDE: 34.301483154296875\n"
     ]
    },
    {
     "name": "stderr",
     "output_type": "stream",
     "text": [
      "\r",
      "Epoch:  84%|██████████████████████▌    | 251/300 [10:54:12<2:15:10, 165.53s/it]"
     ]
    },
    {
     "name": "stdout",
     "output_type": "stream",
     "text": [
      "Epoch 250: \n",
      "Val ADE: 27.61331558227539 \n",
      "Val FDE: 32.52711486816406\n"
     ]
    },
    {
     "name": "stderr",
     "output_type": "stream",
     "text": [
      "\r",
      "Epoch:  84%|██████████████████████▋    | 252/300 [10:56:57<2:12:20, 165.42s/it]"
     ]
    },
    {
     "name": "stdout",
     "output_type": "stream",
     "text": [
      "Epoch 251: \n",
      "Val ADE: 26.341066360473633 \n",
      "Val FDE: 31.757020950317383\n"
     ]
    },
    {
     "name": "stderr",
     "output_type": "stream",
     "text": [
      "\r",
      "Epoch:  84%|██████████████████████▊    | 253/300 [10:59:42<2:09:31, 165.34s/it]"
     ]
    },
    {
     "name": "stdout",
     "output_type": "stream",
     "text": [
      "Epoch 252: \n",
      "Val ADE: 28.7844181060791 \n",
      "Val FDE: 40.41625213623047\n"
     ]
    },
    {
     "name": "stderr",
     "output_type": "stream",
     "text": [
      "\r",
      "Epoch:  85%|██████████████████████▊    | 254/300 [11:02:27<2:06:41, 165.26s/it]"
     ]
    },
    {
     "name": "stdout",
     "output_type": "stream",
     "text": [
      "Epoch 253: \n",
      "Val ADE: 28.254688262939453 \n",
      "Val FDE: 33.284488677978516\n"
     ]
    },
    {
     "name": "stderr",
     "output_type": "stream",
     "text": [
      "\r",
      "Epoch:  85%|██████████████████████▉    | 255/300 [11:05:13<2:03:57, 165.28s/it]"
     ]
    },
    {
     "name": "stdout",
     "output_type": "stream",
     "text": [
      "Epoch 254: \n",
      "Val ADE: 26.030553817749023 \n",
      "Val FDE: 35.28567123413086\n"
     ]
    },
    {
     "name": "stderr",
     "output_type": "stream",
     "text": [
      "\r",
      "Epoch:  85%|███████████████████████    | 256/300 [11:07:58<2:01:15, 165.35s/it]"
     ]
    },
    {
     "name": "stdout",
     "output_type": "stream",
     "text": [
      "Epoch 255: \n",
      "Val ADE: 29.066280364990234 \n",
      "Val FDE: 41.1063117980957\n"
     ]
    },
    {
     "name": "stderr",
     "output_type": "stream",
     "text": [
      "\r",
      "Epoch:  86%|███████████████████████▏   | 257/300 [11:10:43<1:58:24, 165.23s/it]"
     ]
    },
    {
     "name": "stdout",
     "output_type": "stream",
     "text": [
      "Epoch 256: \n",
      "Val ADE: 27.27187728881836 \n",
      "Val FDE: 35.424190521240234\n"
     ]
    },
    {
     "name": "stderr",
     "output_type": "stream",
     "text": [
      "\r",
      "Epoch:  86%|███████████████████████▏   | 258/300 [11:13:29<1:55:41, 165.26s/it]"
     ]
    },
    {
     "name": "stdout",
     "output_type": "stream",
     "text": [
      "Epoch 257: \n",
      "Val ADE: 25.57270050048828 \n",
      "Val FDE: 31.44598388671875\n"
     ]
    },
    {
     "name": "stderr",
     "output_type": "stream",
     "text": [
      "\r",
      "Epoch:  86%|███████████████████████▎   | 259/300 [11:16:14<1:52:56, 165.27s/it]"
     ]
    },
    {
     "name": "stdout",
     "output_type": "stream",
     "text": [
      "Epoch 258: \n",
      "Val ADE: 29.90474510192871 \n",
      "Val FDE: 36.4112548828125\n"
     ]
    },
    {
     "name": "stderr",
     "output_type": "stream",
     "text": [
      "\r",
      "Epoch:  87%|███████████████████████▍   | 260/300 [11:19:00<1:50:20, 165.50s/it]"
     ]
    },
    {
     "name": "stdout",
     "output_type": "stream",
     "text": [
      "Epoch 259: \n",
      "Val ADE: 29.012798309326172 \n",
      "Val FDE: 35.326995849609375\n"
     ]
    },
    {
     "name": "stderr",
     "output_type": "stream",
     "text": [
      "\r",
      "Epoch:  87%|███████████████████████▍   | 261/300 [11:21:46<1:47:39, 165.63s/it]"
     ]
    },
    {
     "name": "stdout",
     "output_type": "stream",
     "text": [
      "Epoch 260: \n",
      "Val ADE: 30.488292694091797 \n",
      "Val FDE: 40.10765838623047\n"
     ]
    },
    {
     "name": "stderr",
     "output_type": "stream",
     "text": [
      "\r",
      "Epoch:  87%|███████████████████████▌   | 262/300 [11:24:31<1:44:49, 165.53s/it]"
     ]
    },
    {
     "name": "stdout",
     "output_type": "stream",
     "text": [
      "Epoch 261: \n",
      "Val ADE: 27.908977508544922 \n",
      "Val FDE: 36.09211349487305\n"
     ]
    },
    {
     "name": "stderr",
     "output_type": "stream",
     "text": [
      "\r",
      "Epoch:  88%|███████████████████████▋   | 263/300 [11:27:17<1:42:05, 165.55s/it]"
     ]
    },
    {
     "name": "stdout",
     "output_type": "stream",
     "text": [
      "Epoch 262: \n",
      "Val ADE: 26.93694496154785 \n",
      "Val FDE: 39.556068420410156\n"
     ]
    },
    {
     "name": "stderr",
     "output_type": "stream",
     "text": [
      "\r",
      "Epoch:  88%|███████████████████████▊   | 264/300 [11:30:02<1:39:18, 165.51s/it]"
     ]
    },
    {
     "name": "stdout",
     "output_type": "stream",
     "text": [
      "Epoch 263: \n",
      "Val ADE: 26.93355941772461 \n",
      "Val FDE: 35.685001373291016\n"
     ]
    },
    {
     "name": "stderr",
     "output_type": "stream",
     "text": [
      "\r",
      "Epoch:  88%|███████████████████████▊   | 265/300 [11:32:47<1:36:28, 165.38s/it]"
     ]
    },
    {
     "name": "stdout",
     "output_type": "stream",
     "text": [
      "Epoch 264: \n",
      "Val ADE: 26.562435150146484 \n",
      "Val FDE: 33.7564697265625\n"
     ]
    },
    {
     "name": "stderr",
     "output_type": "stream",
     "text": [
      "\r",
      "Epoch:  89%|███████████████████████▉   | 266/300 [11:35:32<1:33:37, 165.23s/it]"
     ]
    },
    {
     "name": "stdout",
     "output_type": "stream",
     "text": [
      "Epoch 265: \n",
      "Val ADE: 29.961894989013672 \n",
      "Val FDE: 36.823974609375\n"
     ]
    },
    {
     "name": "stderr",
     "output_type": "stream",
     "text": [
      "\r",
      "Epoch:  89%|████████████████████████   | 267/300 [11:38:18<1:30:55, 165.32s/it]"
     ]
    },
    {
     "name": "stdout",
     "output_type": "stream",
     "text": [
      "Epoch 266: \n",
      "Val ADE: 30.636253356933594 \n",
      "Val FDE: 40.489784240722656\n"
     ]
    },
    {
     "name": "stderr",
     "output_type": "stream",
     "text": [
      "\r",
      "Epoch:  89%|████████████████████████   | 268/300 [11:41:03<1:28:11, 165.36s/it]"
     ]
    },
    {
     "name": "stdout",
     "output_type": "stream",
     "text": [
      "Epoch 267: \n",
      "Val ADE: 27.956506729125977 \n",
      "Val FDE: 35.69691848754883\n"
     ]
    },
    {
     "name": "stderr",
     "output_type": "stream",
     "text": [
      "\r",
      "Epoch:  90%|████████████████████████▏  | 269/300 [11:43:49<1:25:28, 165.44s/it]"
     ]
    },
    {
     "name": "stdout",
     "output_type": "stream",
     "text": [
      "Epoch 268: \n",
      "Val ADE: 31.133764266967773 \n",
      "Val FDE: 42.06365203857422\n"
     ]
    },
    {
     "name": "stderr",
     "output_type": "stream",
     "text": [
      "\r",
      "Epoch:  90%|████████████████████████▎  | 270/300 [11:46:34<1:22:38, 165.27s/it]"
     ]
    },
    {
     "name": "stdout",
     "output_type": "stream",
     "text": [
      "Epoch 269: \n",
      "Val ADE: 30.805023193359375 \n",
      "Val FDE: 39.808876037597656\n"
     ]
    },
    {
     "name": "stderr",
     "output_type": "stream",
     "text": [
      "\r",
      "Epoch:  90%|████████████████████████▍  | 271/300 [11:49:19<1:19:53, 165.28s/it]"
     ]
    },
    {
     "name": "stdout",
     "output_type": "stream",
     "text": [
      "Epoch 270: \n",
      "Val ADE: 32.462440490722656 \n",
      "Val FDE: 42.9807243347168\n"
     ]
    },
    {
     "name": "stderr",
     "output_type": "stream",
     "text": [
      "\r",
      "Epoch:  91%|████████████████████████▍  | 272/300 [11:52:04<1:17:10, 165.36s/it]"
     ]
    },
    {
     "name": "stdout",
     "output_type": "stream",
     "text": [
      "Epoch 271: \n",
      "Val ADE: 25.590473175048828 \n",
      "Val FDE: 35.13498306274414\n"
     ]
    },
    {
     "name": "stderr",
     "output_type": "stream",
     "text": [
      "\r",
      "Epoch:  91%|████████████████████████▌  | 273/300 [11:54:49<1:14:20, 165.21s/it]"
     ]
    },
    {
     "name": "stdout",
     "output_type": "stream",
     "text": [
      "Epoch 272: \n",
      "Val ADE: 28.33509063720703 \n",
      "Val FDE: 35.47636032104492\n"
     ]
    },
    {
     "name": "stderr",
     "output_type": "stream",
     "text": [
      "\r",
      "Epoch:  91%|████████████████████████▋  | 274/300 [11:57:35<1:11:36, 165.24s/it]"
     ]
    },
    {
     "name": "stdout",
     "output_type": "stream",
     "text": [
      "Epoch 273: \n",
      "Val ADE: 25.763065338134766 \n",
      "Val FDE: 31.807723999023438\n"
     ]
    },
    {
     "name": "stderr",
     "output_type": "stream",
     "text": [
      "\r",
      "Epoch:  92%|████████████████████████▊  | 275/300 [12:00:19<1:08:48, 165.14s/it]"
     ]
    },
    {
     "name": "stdout",
     "output_type": "stream",
     "text": [
      "Epoch 274: \n",
      "Val ADE: 26.389381408691406 \n",
      "Val FDE: 33.374942779541016\n"
     ]
    },
    {
     "name": "stderr",
     "output_type": "stream",
     "text": [
      "\r",
      "Epoch:  92%|████████████████████████▊  | 276/300 [12:03:05<1:06:04, 165.18s/it]"
     ]
    },
    {
     "name": "stdout",
     "output_type": "stream",
     "text": [
      "Epoch 275: \n",
      "Val ADE: 25.585872650146484 \n",
      "Val FDE: 31.39383888244629\n"
     ]
    },
    {
     "name": "stderr",
     "output_type": "stream",
     "text": [
      "\r",
      "Epoch:  92%|████████████████████████▉  | 277/300 [12:05:50<1:03:18, 165.14s/it]"
     ]
    },
    {
     "name": "stdout",
     "output_type": "stream",
     "text": [
      "Epoch 276: \n",
      "Val ADE: 29.277584075927734 \n",
      "Val FDE: 39.044212341308594\n"
     ]
    },
    {
     "name": "stderr",
     "output_type": "stream",
     "text": [
      "\r",
      "Epoch:  93%|█████████████████████████  | 278/300 [12:08:35<1:00:31, 165.09s/it]"
     ]
    },
    {
     "name": "stdout",
     "output_type": "stream",
     "text": [
      "Epoch 277: \n",
      "Val ADE: 26.44145393371582 \n",
      "Val FDE: 33.73120880126953\n"
     ]
    },
    {
     "name": "stderr",
     "output_type": "stream",
     "text": [
      "\r",
      "Epoch:  93%|██████████████████████████▉  | 279/300 [12:11:20<57:47, 165.10s/it]"
     ]
    },
    {
     "name": "stdout",
     "output_type": "stream",
     "text": [
      "Epoch 278: \n",
      "Val ADE: 27.782983779907227 \n",
      "Val FDE: 37.638397216796875\n"
     ]
    },
    {
     "name": "stderr",
     "output_type": "stream",
     "text": [
      "\r",
      "Epoch:  93%|███████████████████████████  | 280/300 [12:14:05<55:00, 165.02s/it]"
     ]
    },
    {
     "name": "stdout",
     "output_type": "stream",
     "text": [
      "Epoch 279: \n",
      "Val ADE: 25.18303871154785 \n",
      "Val FDE: 31.85248565673828\n"
     ]
    },
    {
     "name": "stderr",
     "output_type": "stream",
     "text": [
      "\r",
      "Epoch:  94%|███████████████████████████▏ | 281/300 [12:16:50<52:16, 165.09s/it]"
     ]
    },
    {
     "name": "stdout",
     "output_type": "stream",
     "text": [
      "Epoch 280: \n",
      "Val ADE: 26.03472328186035 \n",
      "Val FDE: 29.694021224975586\n"
     ]
    },
    {
     "name": "stderr",
     "output_type": "stream",
     "text": [
      "\r",
      "Epoch:  94%|███████████████████████████▎ | 282/300 [12:19:35<49:30, 165.01s/it]"
     ]
    },
    {
     "name": "stdout",
     "output_type": "stream",
     "text": [
      "Epoch 281: \n",
      "Val ADE: 25.777523040771484 \n",
      "Val FDE: 33.2337532043457\n"
     ]
    },
    {
     "name": "stderr",
     "output_type": "stream",
     "text": [
      "\r",
      "Epoch:  94%|███████████████████████████▎ | 283/300 [12:22:20<46:45, 165.03s/it]"
     ]
    },
    {
     "name": "stdout",
     "output_type": "stream",
     "text": [
      "Epoch 282: \n",
      "Val ADE: 30.757312774658203 \n",
      "Val FDE: 43.3573112487793\n"
     ]
    },
    {
     "name": "stderr",
     "output_type": "stream",
     "text": [
      "\r",
      "Epoch:  95%|███████████████████████████▍ | 284/300 [12:25:05<44:00, 165.04s/it]"
     ]
    },
    {
     "name": "stdout",
     "output_type": "stream",
     "text": [
      "Epoch 283: \n",
      "Val ADE: 26.77741050720215 \n",
      "Val FDE: 35.6575813293457\n"
     ]
    },
    {
     "name": "stderr",
     "output_type": "stream",
     "text": [
      "\r",
      "Epoch:  95%|███████████████████████████▌ | 285/300 [12:27:50<41:16, 165.13s/it]"
     ]
    },
    {
     "name": "stdout",
     "output_type": "stream",
     "text": [
      "Epoch 284: \n",
      "Val ADE: 28.858911514282227 \n",
      "Val FDE: 39.651893615722656\n"
     ]
    },
    {
     "name": "stderr",
     "output_type": "stream",
     "text": [
      "\r",
      "Epoch:  95%|███████████████████████████▋ | 286/300 [12:30:36<38:33, 165.25s/it]"
     ]
    },
    {
     "name": "stdout",
     "output_type": "stream",
     "text": [
      "Epoch 285: \n",
      "Val ADE: 28.88265037536621 \n",
      "Val FDE: 34.457481384277344\n"
     ]
    },
    {
     "name": "stderr",
     "output_type": "stream",
     "text": [
      "\r",
      "Epoch:  96%|███████████████████████████▋ | 287/300 [12:33:21<35:48, 165.23s/it]"
     ]
    },
    {
     "name": "stdout",
     "output_type": "stream",
     "text": [
      "Epoch 286: \n",
      "Val ADE: 30.81771469116211 \n",
      "Val FDE: 40.12044143676758\n"
     ]
    },
    {
     "name": "stderr",
     "output_type": "stream",
     "text": [
      "\r",
      "Epoch:  96%|███████████████████████████▊ | 288/300 [12:36:06<33:00, 165.07s/it]"
     ]
    },
    {
     "name": "stdout",
     "output_type": "stream",
     "text": [
      "Epoch 287: \n",
      "Val ADE: 27.24053192138672 \n",
      "Val FDE: 37.82522964477539\n"
     ]
    },
    {
     "name": "stderr",
     "output_type": "stream",
     "text": [
      "\r",
      "Epoch:  96%|███████████████████████████▉ | 289/300 [12:38:51<30:16, 165.15s/it]"
     ]
    },
    {
     "name": "stdout",
     "output_type": "stream",
     "text": [
      "Epoch 288: \n",
      "Val ADE: 28.19329833984375 \n",
      "Val FDE: 33.39946365356445\n"
     ]
    },
    {
     "name": "stderr",
     "output_type": "stream",
     "text": [
      "\r",
      "Epoch:  97%|████████████████████████████ | 290/300 [12:41:36<27:32, 165.22s/it]"
     ]
    },
    {
     "name": "stdout",
     "output_type": "stream",
     "text": [
      "Epoch 289: \n",
      "Val ADE: 25.985857009887695 \n",
      "Val FDE: 35.69705581665039\n"
     ]
    },
    {
     "name": "stderr",
     "output_type": "stream",
     "text": [
      "\r",
      "Epoch:  97%|████████████████████████████▏| 291/300 [12:44:22<24:47, 165.24s/it]"
     ]
    },
    {
     "name": "stdout",
     "output_type": "stream",
     "text": [
      "Epoch 290: \n",
      "Val ADE: 30.811500549316406 \n",
      "Val FDE: 38.066314697265625\n"
     ]
    },
    {
     "name": "stderr",
     "output_type": "stream",
     "text": [
      "\r",
      "Epoch:  97%|████████████████████████████▏| 292/300 [12:47:07<22:01, 165.13s/it]"
     ]
    },
    {
     "name": "stdout",
     "output_type": "stream",
     "text": [
      "Epoch 291: \n",
      "Val ADE: 27.98523712158203 \n",
      "Val FDE: 35.563785552978516\n"
     ]
    },
    {
     "name": "stderr",
     "output_type": "stream",
     "text": [
      "\r",
      "Epoch:  98%|████████████████████████████▎| 293/300 [12:49:52<19:16, 165.17s/it]"
     ]
    },
    {
     "name": "stdout",
     "output_type": "stream",
     "text": [
      "Epoch 292: \n",
      "Val ADE: 31.60841178894043 \n",
      "Val FDE: 41.71425247192383\n"
     ]
    },
    {
     "name": "stderr",
     "output_type": "stream",
     "text": [
      "\r",
      "Epoch:  98%|████████████████████████████▍| 294/300 [12:52:37<16:31, 165.18s/it]"
     ]
    },
    {
     "name": "stdout",
     "output_type": "stream",
     "text": [
      "Epoch 293: \n",
      "Val ADE: 27.15645408630371 \n",
      "Val FDE: 35.92081832885742\n"
     ]
    },
    {
     "name": "stderr",
     "output_type": "stream",
     "text": [
      "\r",
      "Epoch:  98%|████████████████████████████▌| 295/300 [12:55:23<13:46, 165.29s/it]"
     ]
    },
    {
     "name": "stdout",
     "output_type": "stream",
     "text": [
      "Epoch 294: \n",
      "Val ADE: 28.61819839477539 \n",
      "Val FDE: 37.77077865600586\n"
     ]
    },
    {
     "name": "stderr",
     "output_type": "stream",
     "text": [
      "\r",
      "Epoch:  99%|████████████████████████████▌| 296/300 [12:58:08<11:00, 165.21s/it]"
     ]
    },
    {
     "name": "stdout",
     "output_type": "stream",
     "text": [
      "Epoch 295: \n",
      "Val ADE: 29.97109031677246 \n",
      "Val FDE: 39.300025939941406\n"
     ]
    },
    {
     "name": "stderr",
     "output_type": "stream",
     "text": [
      "\r",
      "Epoch:  99%|████████████████████████████▋| 297/300 [13:00:53<08:15, 165.22s/it]"
     ]
    },
    {
     "name": "stdout",
     "output_type": "stream",
     "text": [
      "Epoch 296: \n",
      "Val ADE: 23.73922348022461 \n",
      "Val FDE: 27.14974594116211\n"
     ]
    },
    {
     "name": "stderr",
     "output_type": "stream",
     "text": [
      "\r",
      "Epoch:  99%|████████████████████████████▊| 298/300 [13:03:39<05:30, 165.35s/it]"
     ]
    },
    {
     "name": "stdout",
     "output_type": "stream",
     "text": [
      "Epoch 297: \n",
      "Val ADE: 26.754037857055664 \n",
      "Val FDE: 35.76243591308594\n"
     ]
    },
    {
     "name": "stderr",
     "output_type": "stream",
     "text": [
      "\r",
      "Epoch: 100%|████████████████████████████▉| 299/300 [13:06:24<02:45, 165.29s/it]"
     ]
    },
    {
     "name": "stdout",
     "output_type": "stream",
     "text": [
      "Epoch 298: \n",
      "Val ADE: 28.472919464111328 \n",
      "Val FDE: 36.30398178100586\n"
     ]
    },
    {
     "name": "stderr",
     "output_type": "stream",
     "text": [
      "Epoch: 100%|█████████████████████████████| 300/300 [13:09:09<00:00, 157.83s/it]"
     ]
    },
    {
     "name": "stdout",
     "output_type": "stream",
     "text": [
      "Epoch 299: \n",
      "Val ADE: 30.757991790771484 \n",
      "Val FDE: 34.33699035644531\n"
     ]
    },
    {
     "name": "stderr",
     "output_type": "stream",
     "text": [
      "\n"
     ]
    }
   ],
   "source": [
    "model.train(df_train, df_val, params, train_image_path=TRAIN_IMAGE_PATH, val_image_path=VAL_IMAGE_PATH, \n",
    "            experiment_name=EXPERIMENT_NAME, batch_size=BATCH_SIZE, num_goals=NUM_GOALS, num_traj=NUM_TRAJ, \n",
    "            device=None, dataset_name=DATASET_NAME)"
   ]
  },
  {
   "cell_type": "code",
   "execution_count": null,
   "id": "16fe307e",
   "metadata": {},
   "outputs": [],
   "source": []
  }
 ],
 "metadata": {
  "kernelspec": {
   "display_name": "Python 3 (ipykernel)",
   "language": "python",
   "name": "python3"
  },
  "language_info": {
   "codemirror_mode": {
    "name": "ipython",
    "version": 3
   },
   "file_extension": ".py",
   "mimetype": "text/x-python",
   "name": "python",
   "nbconvert_exporter": "python",
   "pygments_lexer": "ipython3",
   "version": "3.9.7"
  }
 },
 "nbformat": 4,
 "nbformat_minor": 5
}
